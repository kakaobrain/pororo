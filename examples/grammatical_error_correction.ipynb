{
 "cells": [
  {
   "cell_type": "code",
   "execution_count": 1,
   "metadata": {},
   "outputs": [],
   "source": [
    "from pororo import Pororo"
   ]
  },
  {
   "cell_type": "code",
   "execution_count": 2,
   "metadata": {},
   "outputs": [
    {
     "name": "stderr",
     "output_type": "stream",
     "text": [
      "2021-01-15 14:58:19 | INFO | root | Downloading user-selected model...\n",
      "\n",
      "2021-01-15 14:58:25 | INFO | root | Downloading user-selected model...\n",
      "\n",
      "2021-01-15 14:58:25 | INFO | root | Downloading user-selected model...\n",
      "\n"
     ]
    }
   ],
   "source": [
    "gec = Pororo(task=\"gec\", lang=\"en\")"
   ]
  },
  {
   "cell_type": "code",
   "execution_count": 3,
   "metadata": {},
   "outputs": [
    {
     "data": {
      "text/plain": [
       "'This apple is so sweet.'"
      ]
     },
     "execution_count": 3,
     "metadata": {},
     "output_type": "execute_result"
    }
   ],
   "source": [
    "gec(\"This apple are so sweet.\")"
   ]
  },
  {
   "cell_type": "code",
   "execution_count": 4,
   "metadata": {},
   "outputs": [
    {
     "data": {
      "text/plain": [
       "\"'I've loved you, before I met her!'\""
      ]
     },
     "execution_count": 4,
     "metadata": {},
     "output_type": "execute_result"
    }
   ],
   "source": [
    "gec(\"'I've love you, before I meet her!'\")"
   ]
  },
  {
   "cell_type": "code",
   "execution_count": 5,
   "metadata": {},
   "outputs": [
    {
     "data": {
      "text/plain": [
       "'Travel by bus is exspensive, boring and annoying.'"
      ]
     },
     "execution_count": 5,
     "metadata": {},
     "output_type": "execute_result"
    }
   ],
   "source": [
    "gec(\"Travel by bus is exspensive , bored and annoying .\")"
   ]
  },
  {
   "cell_type": "code",
   "execution_count": 6,
   "metadata": {},
   "outputs": [
    {
     "name": "stderr",
     "output_type": "stream",
     "text": [
      "2021-01-15 15:00:48 | INFO | root | Downloading user-selected model...\n",
      "\n",
      "2021-01-15 15:00:59 | INFO | root | Downloading user-selected model...\n",
      "\n"
     ]
    },
    {
     "data": {
      "text/plain": [
       "'Travelling by bus is expensive, boring, and annoying.'"
      ]
     },
     "execution_count": 6,
     "metadata": {},
     "output_type": "execute_result"
    }
   ],
   "source": [
    "gec(\"Travel by bus is exspensive , bored and annoying .\", correct_spell=True)"
   ]
  },
  {
   "cell_type": "code",
   "execution_count": 7,
   "metadata": {},
   "outputs": [
    {
     "name": "stderr",
     "output_type": "stream",
     "text": [
      "2021-01-15 15:01:13 | INFO | root | Downloading user-selected model...\n",
      "\n",
      "2021-01-15 15:01:20 | INFO | pororo.models.brainbert.tasks.sequence_tagging | [input] dictionary: 4005 types\n",
      "2021-01-15 15:01:20 | INFO | pororo.models.brainbert.tasks.sequence_tagging | [label] dictionary: 9 types\n"
     ]
    },
    {
     "name": "stdout",
     "output_type": "stream",
     "text": [
      "As of now, this beta model tries to correct spacing errors in Korean text.\n"
     ]
    }
   ],
   "source": [
    "gec = Pororo(task=\"gec\", lang=\"ko\")"
   ]
  },
  {
   "cell_type": "code",
   "execution_count": 8,
   "metadata": {},
   "outputs": [
    {
     "data": {
      "text/plain": [
       "'아버지가 방에 들어가신다.'"
      ]
     },
     "execution_count": 8,
     "metadata": {},
     "output_type": "execute_result"
    }
   ],
   "source": [
    "gec(\"아버지가방에들어가신다.\")"
   ]
  }
 ],
 "metadata": {
  "kernelspec": {
   "display_name": "Python 3",
   "language": "python",
   "name": "python3"
  },
  "language_info": {
   "codemirror_mode": {
    "name": "ipython",
    "version": 3
   },
   "file_extension": ".py",
   "mimetype": "text/x-python",
   "name": "python",
   "nbconvert_exporter": "python",
   "pygments_lexer": "ipython3",
   "version": "3.7.7"
  }
 },
 "nbformat": 4,
 "nbformat_minor": 4
}
