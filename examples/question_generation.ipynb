{
 "cells": [
  {
   "cell_type": "markdown",
   "id": "portuguese-psychiatry",
   "metadata": {},
   "source": [
    "## Question Generation Examples\n",
    "- Question generation using pretrained transformer model.\n"
   ]
  },
  {
   "cell_type": "code",
   "execution_count": 1,
   "id": "absent-spokesman",
   "metadata": {},
   "outputs": [],
   "source": [
    "from pororo import Pororo"
   ]
  },
  {
   "cell_type": "code",
   "execution_count": 2,
   "id": "corporate-headset",
   "metadata": {},
   "outputs": [],
   "source": [
    "qg = Pororo(task=\"question_generation\", lang=\"ko\")"
   ]
  },
  {
   "cell_type": "code",
   "execution_count": 3,
   "id": "powerful-partnership",
   "metadata": {},
   "outputs": [],
   "source": [
    "Q1 = \"\"\"카카오톡은 스마트폰의 데이터 통신 기능을 이용하여, 문자 과금 없이 사람들과 메시지를 주고받을 수 있는 애플리케이션이다. 스마트폰 대중화 이 후 기존 인스턴트 메신저 앱의 번거로운 친구 추가 절차 없이, 스마트폰 주소록의 전 화번호만으로 손쉽게 메시지를 주고받을 수 있는 것이 특징이다.\"\"\"\n",
    "Q2 = \"\"\"메시징 서비스와 사회관계망서비스(SNS) 등 소셜미디어를 사용하는 사람들이 뉴스를 볼 때 가장 선호하는 플랫폼은 카카오톡인 것으로 나타났다. 30일 한국언론진흥재단이 최근 공개한 '2017 소셜미디어 이용자 조사' 결과를 보면 소셜미디어로 뉴스를 본 경험이 있는 우리나라 국민 1천747명에게 뉴스 이용 플랫폼을 중복으로 선택하게 한 결과 50.4%가 카카오톡을 사용했다고 답했다. 카카오톡 다음으로는 페이스북(42%) 사용률이 높았으며 유튜브(31.8%)가 뒤를 이었다.\"\"\"\n",
    "Q3 = \"\"\"‘2020년 더 베스트 국제축구연맹(FIFA) 풋볼 어워드’에서 FIFA 푸스카스를 수상한 잉글랜드 프로축구 1부리그 프리미어리 그(EPL) 소속 토트넘 홋스퍼 FC의 손흥민이 기쁜 마음을 드러냈다. 푸스카스는 1년간 전 세계 축구경기에 서 나온 골 중 가장 멋진 골을 뽑는다. 손흥민은 스위스 취리히 소재 FIFA 본부에서 온라인으로 열린 ‘2020년 더 베스트 FIFA 풋볼 어워드’ 시 상식에서 푸스카스를 받았다. 손흥민의 이번 수상은 한국 선수로는  최초이자 아시아에서는 2016년 모하메 드 파이즈 수브리(말레이시아)에 이어 두 번째다. 상을 받은 손흥민은 이날 오전 인스타그램에 “아주 특별한 밤이었다. 저를 지지해주고 제게 투표해 주어서 감사하다”며 셀 프 카메라가 담긴 사진 한 장을 게시했 다. 공개된 사진 속 손흥민은 환한 미소와 엄지를 들어 보이고 있 다. 여기에 손흥민은 이 순간을 절대 잊 지 않겠다고 덧붙였다.  앞서 손흥민은 지난해 12월8일 번리 FC와 가진 EPL 경기에서 환상적인 골을 터뜨 렸다. 당시 손흥민은 토트넘 진영에서 얀 베르통언(벨기에)의 패 스를 받고 공을 잡고 약 70ｍ를 혼자 내달리며 무려 번리 선수 6명을 따돌린 뒤 페널티 지역에서 오른발  슈팅으로 골망을 흔들었다. 이후 이 골은 EPL ‘12월의 골’을 시작으로 영국 공영방송 BBC의 ‘올해의 골’, 영국 스포츠 매체 디 애슬레틱의 ‘올해의  골’에 이어 EPL 사무국이 선정하는 2019∼20시즌 ‘올해의 골’ 등으로 선정되며 최고의 골로 인정받은 바 있다.\"\"\""
   ]
  },
  {
   "cell_type": "code",
   "execution_count": 4,
   "id": "certified-computer",
   "metadata": {},
   "outputs": [
    {
     "data": {
      "text/plain": [
       "'스마트폰의 데이터 통신 기능을 이용해서 문자 과금 없이 사람들과 메시지를 주고받을 수 있는 앱을 뭐라고 해?'"
      ]
     },
     "execution_count": 4,
     "metadata": {},
     "output_type": "execute_result"
    }
   ],
   "source": [
    "qg(\"카카오톡\", Q1)"
   ]
  },
  {
   "cell_type": "code",
   "execution_count": 5,
   "id": "mounted-developer",
   "metadata": {},
   "outputs": [
    {
     "data": {
      "text/plain": [
       "'스마트폰의 데이터 통신 기능을 이용하여, 문자 과금 없이 사람들과 메시지를 주고받을 수 있는 애플리케이션 이름은?'"
      ]
     },
     "execution_count": 5,
     "metadata": {},
     "output_type": "execute_result"
    }
   ],
   "source": [
    "# supports various decoding strategies.\n",
    "qg(\n",
    "    \"카카오톡\", \n",
    "    Q1,\n",
    "    beam=5,\n",
    "    len_penalty=0.6,\n",
    "    no_repeat_ngram_size=3,\n",
    "    top_k=5,\n",
    "    top_p=0.9\n",
    ")"
   ]
  },
  {
   "cell_type": "markdown",
   "id": "existing-romance",
   "metadata": {},
   "source": [
    "### argument `n_wrong`\n",
    "- Pororo supports argument named `n_wrong` to make question generation task a multiple-choice quiz."
   ]
  },
  {
   "cell_type": "code",
   "execution_count": 6,
   "id": "roman-jaguar",
   "metadata": {},
   "outputs": [
    {
     "data": {
      "text/plain": [
       "('스마트폰의 데이터 통신 기능을 이용해서 문자 과금 없이 사람들과 메시지를 주고받을 수 있는 앱을 뭐라고 해?',\n",
       " ['텔레그램', '챗온', '디스코드'])"
      ]
     },
     "execution_count": 6,
     "metadata": {},
     "output_type": "execute_result"
    }
   ],
   "source": [
    "qg(\"카카오톡\", Q1, n_wrong=3)"
   ]
  },
  {
   "cell_type": "code",
   "execution_count": 7,
   "id": "buried-platform",
   "metadata": {},
   "outputs": [
    {
     "data": {
      "text/plain": [
       "('스마트폰의 데이터 통신 기능을 이용해서 문자 과금 없이 사람들과 메시지를 주고받을 수 있는 앱을 뭐라고 해?',\n",
       " ['텔레그램', '챗온', '디스코드', '페이스북 메신저', 'WhatsApp'])"
      ]
     },
     "execution_count": 7,
     "metadata": {},
     "output_type": "execute_result"
    }
   ],
   "source": [
    "qg(\"카카오톡\", Q1, n_wrong=5)"
   ]
  },
  {
   "cell_type": "markdown",
   "id": "liquid-platform",
   "metadata": {},
   "source": [
    "### Parameter-specific batchwise inference\n",
    "- Pororo supports parameter-specific batchwise inference for Question Generation task.\n",
    "- There are 3 different inference types like below.\n",
    "  - Q:A = 1:N \n",
    "  - Q:A = N:1 \n",
    "  - Q:A = N:N (number of Q and A must be same. not N:M)"
   ]
  },
  {
   "cell_type": "code",
   "execution_count": 8,
   "id": "middle-strain",
   "metadata": {},
   "outputs": [
    {
     "data": {
      "text/plain": [
       "['스마트폰의 데이터 통신 기능을 이용해서 문자 과금 없이 사람들과 메시지를 주고받을 수 있는 앱을 뭐라고 해?',\n",
       " '카카오톡은 어떤 기기의 데이터 통신 기능을 이용하는 거야?',\n",
       " '카카오톡에는 어떤 것이 없어?']"
      ]
     },
     "execution_count": 8,
     "metadata": {},
     "output_type": "execute_result"
    }
   ],
   "source": [
    "# Q:A = 1:N\n",
    "qg([\"카카오톡\", \"스마트폰\", \"문자 과금\"], Q1)"
   ]
  },
  {
   "cell_type": "code",
   "execution_count": 9,
   "id": "dress-duration",
   "metadata": {},
   "outputs": [
    {
     "data": {
      "text/plain": [
       "['스마트폰의 데이터 통신 기능을 이용해서 문자 과금 없이 사람들과 메시지를 주고받을 수 있는 앱을 뭐라고 해?',\n",
       " '메시징 서비스와 사회관계망서비스(SNS) 등 소셜미디어를 사용하는 사람들이 뉴스를 볼 때 가장 선호하는 플랫폼은 뭐야?']"
      ]
     },
     "execution_count": 9,
     "metadata": {},
     "output_type": "execute_result"
    }
   ],
   "source": [
    "# Q:A = N:1\n",
    "qg(\"카카오톡\", [Q1, Q2])"
   ]
  },
  {
   "cell_type": "code",
   "execution_count": 10,
   "id": "flexible-rehabilitation",
   "metadata": {},
   "outputs": [
    {
     "data": {
      "text/plain": [
       "['스마트폰의 데이터 통신 기능을 이용해서 문자 과금 없이 사람들과 메시지를 주고받을 수 있는 앱을 뭐라고 해?',\n",
       " '누가 ‘2020년 더 베스트 국제축구연맹(FIFA) 풋볼 어워드’에서 FIFA 푸스카스를 수상했어?']"
      ]
     },
     "execution_count": 10,
     "metadata": {},
     "output_type": "execute_result"
    }
   ],
   "source": [
    "# Q:A = N:N (number of Q and A must be same. not N:M)\n",
    "qg([\"카카오톡\", \"손흥민\"], [Q1, Q3])"
   ]
  },
  {
   "cell_type": "code",
   "execution_count": 11,
   "id": "color-reason",
   "metadata": {},
   "outputs": [
    {
     "data": {
      "text/plain": [
       "[('스마트폰의 데이터 통신 기능을 이용해서 문자 과금 없이 사람들과 메시지를 주고받을 수 있는 앱을 뭐라고 해?',\n",
       "  ['텔레그램', '챗온', '디스코드']),\n",
       " ('누가 ‘2020년 더 베스트 국제축구연맹(FIFA) 풋볼 어워드’에서 FIFA 푸스카스를 수상했어?',\n",
       "  ['지동원', '구자철', '이청용'])]"
      ]
     },
     "execution_count": 11,
     "metadata": {},
     "output_type": "execute_result"
    }
   ],
   "source": [
    "# It also supports argument `n_wrong` too.\n",
    "qg([\"카카오톡\", \"손흥민\"], [Q1, Q3], n_wrong=3)"
   ]
  }
 ],
 "metadata": {
  "kernelspec": {
   "display_name": "Python 3",
   "language": "python",
   "name": "python3"
  },
  "language_info": {
   "codemirror_mode": {
    "name": "ipython",
    "version": 3
   },
   "file_extension": ".py",
   "mimetype": "text/x-python",
   "name": "python",
   "nbconvert_exporter": "python",
   "pygments_lexer": "ipython3",
   "version": "3.7.7"
  }
 },
 "nbformat": 4,
 "nbformat_minor": 5
}