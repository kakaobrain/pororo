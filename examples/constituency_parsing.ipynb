{
 "cells": [
  {
   "cell_type": "code",
   "execution_count": 1,
   "metadata": {},
   "outputs": [],
   "source": [
    "from pororo import Pororo"
   ]
  },
  {
   "cell_type": "code",
   "execution_count": 2,
   "metadata": {},
   "outputs": [],
   "source": [
    "const = Pororo(task=\"const\", lang=\"en\")"
   ]
  },
  {
   "cell_type": "code",
   "execution_count": 3,
   "metadata": {},
   "outputs": [
    {
     "name": "stdout",
     "output_type": "stream",
     "text": [
      "<TOP>\n",
      "\t<S>\n",
      "\t\t<NP>She</NP>\n",
      "\t\t<VP>\n",
      "\t\t\tcompleted\n",
      "\t\t\t<NP>her</NP>\n",
      "\t\t\t<NP>literature review</NP>\n",
      "\t\t</VP>\n",
      "\t\t.\n",
      "\t</S>\n",
      "</TOP>\n"
     ]
    }
   ],
   "source": [
    "res = const(\"She completed her literature review.\")\n",
    "print(res)"
   ]
  },
  {
   "cell_type": "code",
   "execution_count": 4,
   "metadata": {},
   "outputs": [],
   "source": [
    "const = Pororo(task=\"const\", lang=\"ko\")"
   ]
  },
  {
   "cell_type": "code",
   "execution_count": 5,
   "metadata": {},
   "outputs": [
    {
     "name": "stdout",
     "output_type": "stream",
     "text": [
      "<S>\n",
      "\t<NP_AJT>미국+에서+도</NP_AJT>\n",
      "\t<S>\n",
      "\t\t<NP_SBJ>\n",
      "\t\t\t<VP_MOD>같+은</VP_MOD>\n",
      "\t\t\t<NP_SBJ>우려+가</NP_SBJ>\n",
      "\t\t</NP_SBJ>\n",
      "\t\t<VP>\n",
      "\t\t\t<VP>나오+고</VP>\n",
      "\t\t\t<VP>있+다+.</VP>\n",
      "\t\t</VP>\n",
      "\t</S>\n",
      "</S>\n"
     ]
    }
   ],
   "source": [
    "res = const(\"미국에서도 같은 우려가 나오고 있다.\")\n",
    "print(res)"
   ]
  },
  {
   "cell_type": "code",
   "execution_count": 6,
   "metadata": {},
   "outputs": [],
   "source": [
    "const = Pororo(task=\"const\", lang=\"zh\")"
   ]
  },
  {
   "cell_type": "code",
   "execution_count": 7,
   "metadata": {},
   "outputs": [
    {
     "name": "stderr",
     "output_type": "stream",
     "text": [
      "Building prefix dict from the default dictionary ...\n",
      "2021-01-15 00:31:00 | DEBUG | jieba | Building prefix dict from the default dictionary ...\n",
      "Loading model from cache /tmp/jieba.cache\n",
      "2021-01-15 00:31:00 | DEBUG | jieba | Loading model from cache /tmp/jieba.cache\n",
      "Loading model cost 1.025 seconds.\n",
      "2021-01-15 00:31:01 | DEBUG | jieba | Loading model cost 1.025 seconds.\n",
      "Prefix dict has been built successfully.\n",
      "2021-01-15 00:31:01 | DEBUG | jieba | Prefix dict has been built successfully.\n"
     ]
    },
    {
     "name": "stdout",
     "output_type": "stream",
     "text": [
      "<TOP>\n",
      "\t<IP>\n",
      "\t\t<NP>时期 塞北 游牧部落 联盟</NP>\n",
      "\t\t<FLR>的</FLR>\n",
      "\t\t<VP>\n",
      "\t\t\t侵袭\n",
      "\t\t\t<IP>\n",
      "\t\t\t\t<VP>\n",
      "\t\t\t\t\t,\n",
      "\t\t\t\t\t<IP>\n",
      "\t\t\t\t\t\t<NP>\n",
      "\t\t\t\t\t\t\t<CP>\n",
      "\t\t\t\t\t\t\t\t<CP>\n",
      "\t\t\t\t\t\t\t\t\t<IP>\n",
      "\t\t\t\t\t\t\t\t\t\t<VP>\n",
      "\t\t\t\t\t\t\t\t\t\t\t修筑\n",
      "\t\t\t\t\t\t\t\t\t\t\t<NP>规模</NP>\n",
      "\t\t\t\t\t\t\t\t\t\t\t<IP>\n",
      "\t\t\t\t\t\t\t\t\t\t\t\t<VP>浩大</VP>\n",
      "\t\t\t\t\t\t\t\t\t\t\t</IP>\n",
      "\t\t\t\t\t\t\t\t\t\t</VP>\n",
      "\t\t\t\t\t\t\t\t\t</IP>\n",
      "\t\t\t\t\t\t\t\t\t的\n",
      "\t\t\t\t\t\t\t\t</CP>\n",
      "\t\t\t\t\t\t\t</CP>\n",
      "\t\t\t\t\t\t\t<NP>隔離牆 或 军事 工程</NP>\n",
      "\t\t\t\t\t\t</NP>\n",
      "\t\t\t\t\t\t<VP>\n",
      "\t\t\t\t\t\t\t的\n",
      "\t\t\t\t\t\t\t<VP>统称<NP>。</NP></VP>\n",
      "\t\t\t\t\t\t</VP>\n",
      "\t\t\t\t\t</IP>\n",
      "\t\t\t\t</VP>\n",
      "\t\t\t</IP>\n",
      "\t\t</VP>\n",
      "\t</IP>\n",
      "</TOP>\n"
     ]
    }
   ],
   "source": [
    "res = const(\"时期塞北游牧部落联盟的侵袭，修筑规模浩大的隔離牆或军事工程的统称。\")\n",
    "print(res)"
   ]
  }
 ],
 "metadata": {
  "kernelspec": {
   "display_name": "Python 3",
   "language": "python",
   "name": "python3"
  },
  "language_info": {
   "codemirror_mode": {
    "name": "ipython",
    "version": 3
   },
   "file_extension": ".py",
   "mimetype": "text/x-python",
   "name": "python",
   "nbconvert_exporter": "python",
   "pygments_lexer": "ipython3",
   "version": "3.7.7"
  }
 },
 "nbformat": 4,
 "nbformat_minor": 4
}
