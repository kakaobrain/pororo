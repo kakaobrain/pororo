{
 "cells": [
  {
   "cell_type": "markdown",
   "id": "finished-fighter",
   "metadata": {},
   "source": [
    "## Text Summarization Examples\n",
    "- Text summarization examples using pretrained transformer models.\n",
    "- Pororo supports 3 different types of summarization like below."
   ]
  },
  {
   "cell_type": "code",
   "execution_count": 1,
   "id": "popular-celebrity",
   "metadata": {},
   "outputs": [],
   "source": [
    "from pororo import Pororo"
   ]
  },
  {
   "cell_type": "code",
   "execution_count": 2,
   "id": "earlier-scanner",
   "metadata": {},
   "outputs": [],
   "source": [
    "input_text1 = \"\"\"가수 김태연은 걸 그룹 소녀시대, 소녀시대-태티서 및 소녀시대-Oh!GG의 리더이자 메인보컬이다. 2004년 SM에서 주최한 청소년 베스트 선발 대회에서 노래짱 대상을 수상하며 SM 엔터테인먼트에 캐스팅되었다. 이후 3년간의 연습생을 거쳐 2007년 소녀시대의 멤버로 데뷔했다. 태연은 1989년 3월 9일 대한민국 전라북도 전주시 완산구에서 아버지 김종구, 어머니 김희자 사이의 1남 2녀 중 둘째로 태어났다. 가족으로는 오빠 김지웅, 여동생 김하연이 있다. 어릴 적부터 춤을 좋아했고 특히 명절 때는 친척들이 춤을 시키면 곧잘 추었다던 태연은 TV에서 보아를 보고 가수의 꿈을 갖게 되었다고 한다. 전주양지초등학교를 졸업하였고 전주양지중학교 2학년이던 2003년 SM아카데미 스타라이트 메인지방보컬과 4기에 들어가게 되면서 아버지와 함께 주말마다 전주에서 서울로 이동하며 가수의 꿈을 키웠다. 2004년에 당시 보컬 트레이너였던 더 원의 정규 2집 수록곡 〈You Bring Me Joy (Part 2)〉에 피처링으로 참여했다. 당시 만 15세였던 태연은 현재 활동하는 소속사 SM 엔터테인먼트에 들어가기 전이었다. 이후 태연은 2004년 8월에 열린 제8회 SM 청소년 베스트 선발 대회에서 노래짱 부문에 출전해 1위(대상)를 수상하였고 SM 엔터테인먼트에 정식 캐스팅되어 연습생 생활을 시작하게 되었다. 2005년 청담고등학교에 입학하였으나, 학교 측에서 연예계 활동을 용인하지 않아 전주예술고등학교 방송문화예술과로 전학하였고 2008년 졸업하면서 학교를 빛낸 공로로 공로상을 수상했다. 태연은 연습생 생활이 힘들어 숙소에서 몰래 뛰쳐나갔다가 하루 만에 다시 돌아오기도 했다고 이야기하기도 했다. 이후 SM엔터테인먼트에서 3년여의 연습생 기간을 거쳐 걸 그룹 소녀시대의 멤버로 정식 데뷔하게 되었다.\"\"\"\n",
    "input_text2 = \"\"\"목성과 토성이 약 400년 만에 가장 가까이 만났습니다. 국립과천과학관 등 천문학계에 따르면 21일 저녁 목성과 토성은 1623년 이후 397년 만에 가장 가까워졌는데요. 크리스마스 즈음까지 남서쪽 하늘을 올려다보면 목성과 토성이 가까워지는 현상을 관측할 수 있습니다. 목성의 공전주기는 11.9년, 토성의 공전주기는 29.5년인데요. 공전주기의 차이로 두 행성은 약 19.9년에 한 번 가까워집니다. 이번 근접 때  목성과 토성 사이 거리는 보름달 지름의 5분의 1 정도로 가까워졌습니다. 맨눈으로 보면 두 행성이 겹쳐져 하나의 별처럼 보이는데요. 지난 21일 이후 목성과 토성의 대근접은 2080년 3월 15일로 예측됩니다. 과천과학관 측은 우리가 대근접을 볼 수 있는 기회는 이번이 처음이자 마지막이 될 가능성이 크다라고 설명했 습니다.\"\"\""
   ]
  },
  {
   "cell_type": "markdown",
   "id": "partial-rebate",
   "metadata": {},
   "source": [
    "### 1. Abstractive Summarization\n",
    "- Model generate a summary in the form of a complete sentence."
   ]
  },
  {
   "cell_type": "code",
   "execution_count": 3,
   "id": "synthetic-significance",
   "metadata": {},
   "outputs": [],
   "source": [
    "abs_summ = Pororo(task=\"text_summarization\", lang=\"ko\", model=\"abstractive\")"
   ]
  },
  {
   "cell_type": "code",
   "execution_count": 4,
   "id": "cheap-touch",
   "metadata": {},
   "outputs": [
    {
     "data": {
      "text/plain": [
       "'가수 태연은 2004년 SM 청소년 베스트 선발 대회에서 노래짱 대상을 수상하고 SM 엔터테인먼트에 캐스팅되어 3년간의 연습생 기간을 거쳐 2007년 소녀시대의 멤버로 데뷔했다.'"
      ]
     },
     "execution_count": 4,
     "metadata": {},
     "output_type": "execute_result"
    }
   ],
   "source": [
    "abs_summ(input_text1)"
   ]
  },
  {
   "cell_type": "code",
   "execution_count": 5,
   "id": "missing-generic",
   "metadata": {},
   "outputs": [
    {
     "data": {
      "text/plain": [
       "['가수 태연은 2004년 SM 청소년 베스트 선발 대회에서 노래짱 대상을 수상하고 SM 엔터테인먼트에 캐스팅되어 3년간의 연습생 기간을 거쳐 2007년 소녀시대의 멤버로 데뷔했다.',\n",
       " '국립과천과학관 등 천문학계에 따르면 21일 저녁 목성과 토성은 1623년 이후 397년 만에 가장 가까워졌는데 크리스마스 즈음까지 남서쪽 하늘을 올려다보면 목성과 토성이 가까워지는 현상을 관측할 수 있다.']"
      ]
     },
     "execution_count": 5,
     "metadata": {},
     "output_type": "execute_result"
    }
   ],
   "source": [
    "# supports batchwise inference\n",
    "abs_summ([input_text1, input_text2])"
   ]
  },
  {
   "cell_type": "code",
   "execution_count": 6,
   "id": "possible-heath",
   "metadata": {},
   "outputs": [
    {
     "data": {
      "text/plain": [
       "'가수 태연은 어릴 적부터 춤을 좋아했고 TV에서 보아를 보고 가수의 꿈을 갖게 되어  SM엔터테인먼트에서 3년여의 연습생 기간을 거쳐 2007년 소녀시대의 멤버로 정식 데뷔하게 되었다.'"
      ]
     },
     "execution_count": 6,
     "metadata": {},
     "output_type": "execute_result"
    }
   ],
   "source": [
    "# supports various decoding strategies \n",
    "abs_summ(\n",
    "    input_text1, \n",
    "    beam=5, \n",
    "    len_penalty=0.6,\n",
    "    no_repeat_ngram_size=3,\n",
    "    top_k=50,\n",
    "    top_p=0.7\n",
    ")"
   ]
  },
  {
   "cell_type": "markdown",
   "id": "hawaiian-article",
   "metadata": {},
   "source": [
    "### 2. Extractive Summarization\n",
    "- Model extract 3 important sentences from article."
   ]
  },
  {
   "cell_type": "code",
   "execution_count": 7,
   "id": "attempted-plumbing",
   "metadata": {},
   "outputs": [],
   "source": [
    "ext_summ = Pororo(task=\"text_summarization\", lang=\"ko\", model=\"extractive\")"
   ]
  },
  {
   "cell_type": "code",
   "execution_count": 8,
   "id": "suitable-payday",
   "metadata": {},
   "outputs": [
    {
     "data": {
      "text/plain": [
       "'2004년 SM에서 주최한 청소년 베스트 선발 대회에서 노래짱 대상을 수상하며 SM 엔터테인먼트에 캐스팅되었다. 이후 태연은 2004년 8월에 열린 제8회 SM 청소년 베스트 선발 대회에서 노래짱 부문에 출전해 1위(대상)를 수상하였고 SM 엔터테인먼트에 정식 캐스팅되어 연습생 생활을 시작하게 되었다. 이후 SM엔터테인먼트에서 3년여의 연습생 기간을 거쳐 걸 그룹 소녀시대의 멤버로 정식 데뷔하게 되었다.'"
      ]
     },
     "execution_count": 8,
     "metadata": {},
     "output_type": "execute_result"
    }
   ],
   "source": [
    "ext_summ(input_text1)"
   ]
  },
  {
   "cell_type": "code",
   "execution_count": 9,
   "id": "coral-provincial",
   "metadata": {},
   "outputs": [
    {
     "data": {
      "text/plain": [
       "['2004년 SM에서 주최한 청소년 베스트 선발 대회에서 노래짱 대상을 수상하며 SM 엔터테인먼트에 캐스팅되었다. 이후 태연은 2004년 8월에 열린 제8회 SM 청소년 베스트 선발 대회에서 노래짱 부문에 출전해 1위(대상)를 수상하였고 SM 엔터테인먼트에 정식 캐스팅되어 연습생 생활을 시작하게 되었다. 이후 SM엔터테인먼트에서 3년여의 연습생 기간을 거쳐 걸 그룹 소녀시대의 멤버로 정식 데뷔하게 되었다.',\n",
       " '국립과천과학관 등 천문학계에 따르면 21일 저녁 목성과 토성은 1623년 이후 397년 만에 가장 가까워졌는데요. 크리스마스 즈음까지 남서쪽 하늘을 올려다보면 목성과 토성이 가까워지는 현상을 관측할 수 있습니다. 지난 21일 이후 목성과 토성의 대근접은 2080년 3월 15일로 예측됩니다.']"
      ]
     },
     "execution_count": 9,
     "metadata": {},
     "output_type": "execute_result"
    }
   ],
   "source": [
    "# support batchwise inference\n",
    "ext_summ([input_text1, input_text2])"
   ]
  },
  {
   "cell_type": "code",
   "execution_count": 10,
   "id": "unavailable-operator",
   "metadata": {},
   "outputs": [
    {
     "data": {
      "text/plain": [
       "['2004년 SM에서 주최한 청소년 베스트 선발 대회에서 노래짱 대상을 수상하며 SM 엔터테인먼트에 캐스팅되었다.',\n",
       " '이후 태연은 2004년 8월에 열린 제8회 SM 청소년 베스트 선발 대회에서 노래짱 부문에 출전해 1위(대상)를 수상하였고 SM 엔터테인먼트에 정식 캐스팅되어 연습생 생활을 시작하게 되었다.',\n",
       " '이후 SM엔터테인먼트에서 3년여의 연습생 기간을 거쳐 걸 그룹 소녀시대의 멤버로 정식 데뷔하게 되었다.']"
      ]
     },
     "execution_count": 10,
     "metadata": {},
     "output_type": "execute_result"
    }
   ],
   "source": [
    "# set `retrun_list=True` to return extracted summaries as lists.\n",
    "ext_summ(input_text1, return_list=True)"
   ]
  },
  {
   "cell_type": "code",
   "execution_count": 11,
   "id": "suited-soldier",
   "metadata": {},
   "outputs": [
    {
     "data": {
      "text/plain": [
       "[['2004년 SM에서 주최한 청소년 베스트 선발 대회에서 노래짱 대상을 수상하며 SM 엔터테인먼트에 캐스팅되었다.',\n",
       "  '이후 태연은 2004년 8월에 열린 제8회 SM 청소년 베스트 선발 대회에서 노래짱 부문에 출전해 1위(대상)를 수상하였고 SM 엔터테인먼트에 정식 캐스팅되어 연습생 생활을 시작하게 되었다.',\n",
       "  '이후 SM엔터테인먼트에서 3년여의 연습생 기간을 거쳐 걸 그룹 소녀시대의 멤버로 정식 데뷔하게 되었다.'],\n",
       " ['국립과천과학관 등 천문학계에 따르면 21일 저녁 목성과 토성은 1623년 이후 397년 만에 가장 가까워졌는데요.',\n",
       "  '크리스마스 즈음까지 남서쪽 하늘을 올려다보면 목성과 토성이 가까워지는 현상을 관측할 수 있습니다.',\n",
       "  '지난 21일 이후 목성과 토성의 대근접은 2080년 3월 15일로 예측됩니다.']]"
      ]
     },
     "execution_count": 11,
     "metadata": {},
     "output_type": "execute_result"
    }
   ],
   "source": [
    "# support batchwise inference\n",
    "ext_summ([input_text1, input_text2], return_list=True)"
   ]
  },
  {
   "cell_type": "markdown",
   "id": "armed-compatibility",
   "metadata": {},
   "source": [
    "### 3. Bullet-point Summarization\n",
    "- Model generate multiple summaries in the form of a short phrase.\n",
    "- It is similar with note handwritings and presentations summaries."
   ]
  },
  {
   "cell_type": "code",
   "execution_count": 12,
   "id": "composite-leader",
   "metadata": {},
   "outputs": [],
   "source": [
    "bullet_summ = Pororo(task=\"text_summarization\", lang=\"ko\", model=\"bullet\")"
   ]
  },
  {
   "cell_type": "code",
   "execution_count": 13,
   "id": "unable-underground",
   "metadata": {},
   "outputs": [
    {
     "data": {
      "text/plain": [
       "['태연, 2004년 청소년 베스트 선발 대회에서 노래짱 대상 수상',\n",
       " ' 태연, SM엔터테인먼트에서 3년여의 연습생 기간 거쳐 걸 그룹 소녀시대의 멤버로 정식 데뷔']"
      ]
     },
     "execution_count": 13,
     "metadata": {},
     "output_type": "execute_result"
    }
   ],
   "source": [
    "bullet_summ(input_text1)"
   ]
  },
  {
   "cell_type": "code",
   "execution_count": 14,
   "id": "decimal-stephen",
   "metadata": {},
   "outputs": [
    {
     "data": {
      "text/plain": [
       "[['태연, 2004년 청소년 베스트 선발 대회에서 노래짱 대상 수상',\n",
       "  ' 태연, SM엔터테인먼트에서 3년여의 연습생 기간 거쳐 걸 그룹 소녀시대의 멤버로 정식 데뷔'],\n",
       " ['21일 저녁 목성과 토성 1623년 이후 397년 만에 가까워져',\n",
       "  ' 2080년 3월 15일 대근접 예측',\n",
       "  ' 크리스마스 즈음 남서쪽 하늘 올려보면 관측 가능']]"
      ]
     },
     "execution_count": 14,
     "metadata": {},
     "output_type": "execute_result"
    }
   ],
   "source": [
    "# support batchwise inference\n",
    "bullet_summ([input_text1, input_text2])"
   ]
  },
  {
   "cell_type": "code",
   "execution_count": 15,
   "id": "reverse-hydrogen",
   "metadata": {},
   "outputs": [
    {
     "data": {
      "text/plain": [
       "['태연, 2004년 청소년 베스트 선발 대회 노래짱 대상 수상', ' 태연, SM 엔터테인먼트에 캐스팅']"
      ]
     },
     "execution_count": 15,
     "metadata": {},
     "output_type": "execute_result"
    }
   ],
   "source": [
    "# supports various decoding strategies \n",
    "bullet_summ(\n",
    "    input_text1, \n",
    "    beam=5, \n",
    "    len_penalty=0.6,\n",
    "    no_repeat_ngram_size=3,\n",
    "    top_k=50,\n",
    "    top_p=0.7\n",
    ")"
   ]
  }
 ],
 "metadata": {
  "kernelspec": {
   "display_name": "Python 3",
   "language": "python",
   "name": "python3"
  },
  "language_info": {
   "codemirror_mode": {
    "name": "ipython",
    "version": 3
   },
   "file_extension": ".py",
   "mimetype": "text/x-python",
   "name": "python",
   "nbconvert_exporter": "python",
   "pygments_lexer": "ipython3",
   "version": "3.7.7"
  }
 },
 "nbformat": 4,
 "nbformat_minor": 5
}
