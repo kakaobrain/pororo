{
 "cells": [
  {
   "cell_type": "code",
   "execution_count": 1,
   "metadata": {},
   "outputs": [],
   "source": [
    "from pororo import Pororo"
   ]
  },
  {
   "cell_type": "code",
   "execution_count": 2,
   "metadata": {},
   "outputs": [
    {
     "name": "stderr",
     "output_type": "stream",
     "text": [
      "2021-01-15 00:33:11 | INFO | pororo.models.brainbert.tasks.dependency_parse | [input] dictionary: 64000 types\n",
      "2021-01-15 00:33:11 | INFO | pororo.models.brainbert.tasks.dependency_parse | [pos] dictionary: 57 types\n",
      "2021-01-15 00:33:11 | INFO | pororo.models.brainbert.tasks.dependency_parse | [label0] dictionary: 261 types\n",
      "2021-01-15 00:33:11 | INFO | pororo.models.brainbert.tasks.dependency_parse | [label1] dictionary: 57 types\n"
     ]
    }
   ],
   "source": [
    "dp = Pororo(task=\"dp\", lang=\"ko\")"
   ]
  },
  {
   "cell_type": "code",
   "execution_count": 3,
   "metadata": {},
   "outputs": [
    {
     "data": {
      "text/plain": [
       "[(1, '나는', 3, 'NP_SBJ'), (2, '학교에', 3, 'NP_AJT'), (3, '간다.', -1, 'VP')]"
      ]
     },
     "execution_count": 3,
     "metadata": {},
     "output_type": "execute_result"
    }
   ],
   "source": [
    "dp(\"나는 학교에 간다.\")"
   ]
  }
 ],
 "metadata": {
  "kernelspec": {
   "display_name": "Python 3",
   "language": "python",
   "name": "python3"
  },
  "language_info": {
   "codemirror_mode": {
    "name": "ipython",
    "version": 3
   },
   "file_extension": ".py",
   "mimetype": "text/x-python",
   "name": "python",
   "nbconvert_exporter": "python",
   "pygments_lexer": "ipython3",
   "version": "3.7.7"
  }
 },
 "nbformat": 4,
 "nbformat_minor": 4
}
