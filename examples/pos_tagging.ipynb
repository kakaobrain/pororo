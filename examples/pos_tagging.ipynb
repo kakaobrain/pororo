{
 "cells": [
  {
   "cell_type": "code",
   "execution_count": 1,
   "metadata": {},
   "outputs": [],
   "source": [
    "from pororo import Pororo"
   ]
  },
  {
   "cell_type": "code",
   "execution_count": 2,
   "metadata": {},
   "outputs": [],
   "source": [
    "pos = Pororo(task=\"pos\", lang=\"ko\")"
   ]
  },
  {
   "cell_type": "code",
   "execution_count": 3,
   "metadata": {},
   "outputs": [
    {
     "data": {
      "text/plain": [
       "[('95', 'SN'),\n",
       " ('가지', 'NNBC'),\n",
       " (' ', 'SPACE'),\n",
       " ('알고리즘', 'NNG'),\n",
       " (' ', 'SPACE'),\n",
       " ('문제', 'NNG'),\n",
       " (' ', 'SPACE'),\n",
       " ('풀이', 'NNG'),\n",
       " ('로', 'JKB'),\n",
       " (' ', 'SPACE'),\n",
       " ('완성', 'NNG'),\n",
       " ('하', 'XSV'),\n",
       " ('는', 'ETM'),\n",
       " (' ', 'SPACE'),\n",
       " ('코딩', 'NNG'),\n",
       " (' ', 'SPACE'),\n",
       " ('테스트', 'NNG')]"
      ]
     },
     "execution_count": 3,
     "metadata": {},
     "output_type": "execute_result"
    }
   ],
   "source": [
    "pos(\"95가지 알고리즘 문제 풀이로 완성하는 코딩 테스트\")"
   ]
  },
  {
   "cell_type": "code",
   "execution_count": 4,
   "metadata": {},
   "outputs": [],
   "source": [
    "pos = Pororo(task=\"pos\", lang=\"en\")"
   ]
  },
  {
   "cell_type": "code",
   "execution_count": 5,
   "metadata": {},
   "outputs": [
    {
     "data": {
      "text/plain": [
       "[('The', 'DT'),\n",
       " (' ', 'SPACE'),\n",
       " ('striped', 'JJ'),\n",
       " (' ', 'SPACE'),\n",
       " ('bats', 'NNS'),\n",
       " (' ', 'SPACE'),\n",
       " ('are', 'VBP'),\n",
       " (' ', 'SPACE'),\n",
       " ('hanging', 'VBG'),\n",
       " (',', ','),\n",
       " (' ', 'SPACE'),\n",
       " ('on', 'IN'),\n",
       " (' ', 'SPACE'),\n",
       " ('their', 'PRP$'),\n",
       " (' ', 'SPACE'),\n",
       " ('feet', 'NNS'),\n",
       " (' ', 'SPACE'),\n",
       " ('for', 'IN'),\n",
       " (' ', 'SPACE'),\n",
       " ('best', 'JJS'),\n",
       " ('.', '.')]"
      ]
     },
     "execution_count": 5,
     "metadata": {},
     "output_type": "execute_result"
    }
   ],
   "source": [
    "pos(\"The striped bats are hanging, on their feet for best.\")"
   ]
  },
  {
   "cell_type": "code",
   "execution_count": 6,
   "metadata": {},
   "outputs": [],
   "source": [
    "pos = Pororo(task=\"pos\", lang=\"ja\")"
   ]
  },
  {
   "cell_type": "code",
   "execution_count": 7,
   "metadata": {},
   "outputs": [
    {
     "data": {
      "text/plain": [
       "[('日本語', '名詞'),\n",
       " ('で', '助詞'),\n",
       " ('ペラペラ', '副詞'),\n",
       " ('で', '助動詞'),\n",
       " ('は', '助詞'),\n",
       " ('ない', '助動詞'),\n",
       " ('です', '助動詞')]"
      ]
     },
     "execution_count": 7,
     "metadata": {},
     "output_type": "execute_result"
    }
   ],
   "source": [
    "pos(\"日本語でペラペラではないです\")"
   ]
  },
  {
   "cell_type": "code",
   "execution_count": 8,
   "metadata": {},
   "outputs": [],
   "source": [
    "pos = Pororo(task=\"pos\", lang=\"zh\")"
   ]
  },
  {
   "cell_type": "code",
   "execution_count": 9,
   "metadata": {},
   "outputs": [
    {
     "name": "stderr",
     "output_type": "stream",
     "text": [
      "Building prefix dict from the default dictionary ...\n",
      "2021-01-15 11:18:04 | DEBUG | jieba | Building prefix dict from the default dictionary ...\n",
      "Loading model from cache /tmp/jieba.cache\n",
      "2021-01-15 11:18:04 | DEBUG | jieba | Loading model from cache /tmp/jieba.cache\n",
      "Loading model cost 0.932 seconds.\n",
      "2021-01-15 11:18:05 | DEBUG | jieba | Loading model cost 0.932 seconds.\n",
      "Prefix dict has been built successfully.\n",
      "2021-01-15 11:18:05 | DEBUG | jieba | Prefix dict has been built successfully.\n"
     ]
    },
    {
     "data": {
      "text/plain": [
       "[('乒乓球', 'n'), ('拍卖', 'v'), ('完', 'v'), ('了', 'ul')]"
      ]
     },
     "execution_count": 9,
     "metadata": {},
     "output_type": "execute_result"
    }
   ],
   "source": [
    "pos(\"乒乓球拍卖完了\")"
   ]
  }
 ],
 "metadata": {
  "kernelspec": {
   "display_name": "Python 3",
   "language": "python",
   "name": "python3"
  },
  "language_info": {
   "codemirror_mode": {
    "name": "ipython",
    "version": 3
   },
   "file_extension": ".py",
   "mimetype": "text/x-python",
   "name": "python",
   "nbconvert_exporter": "python",
   "pygments_lexer": "ipython3",
   "version": "3.7.7"
  }
 },
 "nbformat": 4,
 "nbformat_minor": 4
}
