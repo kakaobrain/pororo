{
 "cells": [
  {
   "cell_type": "code",
   "execution_count": 1,
   "metadata": {},
   "outputs": [],
   "source": [
    "from pororo import Pororo"
   ]
  },
  {
   "cell_type": "code",
   "execution_count": 3,
   "metadata": {},
   "outputs": [
    {
     "name": "stdout",
     "output_type": "stream",
     "text": [
      "loading archive file /root/.pororo/bert/roberta.base.en.movie\n"
     ]
    },
    {
     "name": "stderr",
     "output_type": "stream",
     "text": [
      "2021-01-15 14:33:48 | INFO | filelock | Lock 140614545215120 acquired on /root/.cache/huggingface/transformers/733bade19e5f0ce98e6531021dd5180994bb2f7b8bd7e80c7968805834ba351e.35205c6cfc956461d8515139f0f8dd5d207a2f336c0c3a83b4bc8dca3518e37b.lock\n"
     ]
    },
    {
     "data": {
      "application/vnd.jupyter.widget-view+json": {
       "model_id": "0cd1b122a57d4278be553109d8937739",
       "version_major": 2,
       "version_minor": 0
      },
      "text/plain": [
       "HBox(children=(FloatProgress(value=0.0, description='Downloading', max=481.0, style=ProgressStyle(description_…"
      ]
     },
     "metadata": {},
     "output_type": "display_data"
    },
    {
     "name": "stderr",
     "output_type": "stream",
     "text": [
      "2021-01-15 14:33:49 | INFO | filelock | Lock 140614545215120 released on /root/.cache/huggingface/transformers/733bade19e5f0ce98e6531021dd5180994bb2f7b8bd7e80c7968805834ba351e.35205c6cfc956461d8515139f0f8dd5d207a2f336c0c3a83b4bc8dca3518e37b.lock\n"
     ]
    },
    {
     "name": "stdout",
     "output_type": "stream",
     "text": [
      "\n"
     ]
    },
    {
     "name": "stderr",
     "output_type": "stream",
     "text": [
      "2021-01-15 14:33:50 | INFO | filelock | Lock 140614668107728 acquired on /root/.cache/huggingface/transformers/51ba668f7ff34e7cdfa9561e8361747738113878850a7d717dbc69de8683aaad.c7efaa30a0d80b2958b876969faa180e485944a849deee4ad482332de65365a7.lock\n"
     ]
    },
    {
     "data": {
      "application/vnd.jupyter.widget-view+json": {
       "model_id": "e62aae12ac9b486aafe8690f33c78f36",
       "version_major": 2,
       "version_minor": 0
      },
      "text/plain": [
       "HBox(children=(FloatProgress(value=0.0, description='Downloading', max=501200538.0, style=ProgressStyle(descri…"
      ]
     },
     "metadata": {},
     "output_type": "display_data"
    },
    {
     "name": "stderr",
     "output_type": "stream",
     "text": [
      "2021-01-15 14:34:29 | INFO | filelock | Lock 140614668107728 released on /root/.cache/huggingface/transformers/51ba668f7ff34e7cdfa9561e8361747738113878850a7d717dbc69de8683aaad.c7efaa30a0d80b2958b876969faa180e485944a849deee4ad482332de65365a7.lock\n"
     ]
    },
    {
     "name": "stdout",
     "output_type": "stream",
     "text": [
      "\n"
     ]
    }
   ],
   "source": [
    "age = Pororo(task=\"age_suitability\", lang=\"en\")"
   ]
  },
  {
   "cell_type": "code",
   "execution_count": 4,
   "metadata": {},
   "outputs": [
    {
     "name": "stderr",
     "output_type": "stream",
     "text": [
      "Token indices sequence length is longer than the specified maximum sequence length for this model (620 > 512). Running this sequence through the model will result in indexing errors\n"
     ]
    },
    {
     "data": {
      "text/plain": [
       "{'rating': {'class': 'PG',\n",
       "  'description': 'Parental Guidance Suggested. Some material may not be suitable for children.'},\n",
       " 'emotion': {'nudity': 'Low',\n",
       "  'violence': 'Low',\n",
       "  'profanity': 'Low',\n",
       "  'alcohol': 'Low',\n",
       "  'frightening': 'Low'}}"
      ]
     },
     "execution_count": 4,
     "metadata": {},
     "output_type": "execute_result"
    }
   ],
   "source": [
    "age('''\n",
    "[That stormy night, a tall house, on a rock island somewhere out at sea. The Dursleys, including Harry have moved there, due to the chaos with the letters. The family is sleeping, with Harry on the cold, dirt floor and Dudley sleeping on a sofa. Harry has drawn a birthday cake which reads, Happy Birthday Harry. Harry looks at Dudley's watch, which beeps 12:00.]\n",
    "\n",
    "Harry: [to himself] Make a wish, Harry. [he blows the \"candles\" on the drawn birthday cake]\n",
    "[Suddenly, the door thumps, in sync with the thunder flashing. Harry jumps. The door thumps again and Dudley and Harry jump up and back away. Harry hides behind a wall, and Dudley cowers on a windowsill. Petunia and Vernon appear, with Vernon holding a double barrel gun.]\n",
    "\n",
    "Vernon: Who's there? Ahh!\n",
    "[The door bangs again and then falls down, and a giant man appears. As he comes into the clear lighting, he is revealed to be Hagrid.]\n",
    "\n",
    "Hagrid: Sorry 'bout that. [He puts the door back up]\n",
    "Vernon: [aiming his gun at him] I demand that you leave at once, sir! You are breaking and entering!\n",
    "[As Petunia quietly gasps in fear, Hagrid grabs the gun and bends it upwards.]\n",
    "\n",
    "Hagrid: Dry up, Dursley, you great prune. [The gun fires upwards, blasting a hole in the ceiling, causing the two to shriek in fear. Hagrid notices Dudley.] Boy, I haven't seen you since you was a baby, Harry, but you're a bit more along than I would have expected. Particularly 'round the middle!\n",
    "Dudley: I-I-I'm not Harry.\n",
    "[Harry reveals himself]\n",
    "\n",
    "Harry: I-I am.\n",
    "Hagrid: Oh, well, of course you are! Got something for ya. 'Fraid I might have sat on it at some point! I imagine that it'll taste fine just the same. Ahh. Baked it myself. [Hands Harry the cake] Words and all. Heh.\n",
    "[Harry opens cake, which reads \"Happee Birdae Harry\" in green frosting.]\n",
    "\n",
    "Harry: Thank you!\n",
    "Hagrid: It's not every day that your young man turns eleven, now is it?\n",
    "[Hagrid sits down on the sofa, takes out an umbrella and points it at the empty fire. Two sparks fly out and the fire starts. The family gasps.]\n",
    "\n",
    "Harry: [puts cake down] Excuse me, who are you?\n",
    "Hagrid: Rubeus Hagrid. Keeper of keys and grounds at Hogwarts. Course, you'll know all about Hogwarts.\n",
    "Harry: Sorry, no.\n",
    "Hagrid: No? Blimey, Harry, didn't you ever wonder where your mum and dad learned it all?\n",
    "Harry: Learned what?\n",
    "Hagrid: You're a wizard, Harry.\n",
    "\n",
    "''')"
   ]
  }
 ],
 "metadata": {
  "kernelspec": {
   "display_name": "Python 3",
   "language": "python",
   "name": "python3"
  },
  "language_info": {
   "codemirror_mode": {
    "name": "ipython",
    "version": 3
   },
   "file_extension": ".py",
   "mimetype": "text/x-python",
   "name": "python",
   "nbconvert_exporter": "python",
   "pygments_lexer": "ipython3",
   "version": "3.7.7"
  }
 },
 "nbformat": 4,
 "nbformat_minor": 4
}
