{
 "cells": [
  {
   "cell_type": "code",
   "execution_count": 1,
   "metadata": {},
   "outputs": [],
   "source": [
    "from pororo import Pororo"
   ]
  },
  {
   "cell_type": "code",
   "execution_count": 2,
   "metadata": {},
   "outputs": [
    {
     "name": "stderr",
     "output_type": "stream",
     "text": [
      "2021-01-15 11:21:29 | INFO | root | Downloading user-selected model...\n",
      "\n"
     ]
    }
   ],
   "source": [
    "zsl = Pororo(task=\"zero-topic\", lang=\"en\")"
   ]
  },
  {
   "cell_type": "code",
   "execution_count": 3,
   "metadata": {},
   "outputs": [
    {
     "data": {
      "text/plain": [
       "{'business': 33.23, 'art & culture': 8.33, 'politics': 96.12}"
      ]
     },
     "execution_count": 3,
     "metadata": {},
     "output_type": "execute_result"
    }
   ],
   "source": [
    "zsl(\"Who are you voting for in 2020?\", [\"business\", \"art & culture\", \"politics\"])"
   ]
  },
  {
   "cell_type": "code",
   "execution_count": 4,
   "metadata": {},
   "outputs": [
    {
     "name": "stderr",
     "output_type": "stream",
     "text": [
      "2021-01-15 11:21:49 | INFO | root | Downloading user-selected model...\n",
      "\n"
     ]
    }
   ],
   "source": [
    "zsl = Pororo(task=\"zero-topic\", lang=\"ko\")"
   ]
  },
  {
   "cell_type": "code",
   "execution_count": 5,
   "metadata": {},
   "outputs": [
    {
     "data": {
      "text/plain": [
       "{'스포츠': 94.15,\n",
       " '사회': 37.11,\n",
       " '정치': 74.26,\n",
       " '경제': 39.18,\n",
       " '생활/문화': 71.15,\n",
       " 'IT/과학': 34.71}"
      ]
     },
     "execution_count": 5,
     "metadata": {},
     "output_type": "execute_result"
    }
   ],
   "source": [
    "zsl('''라리가 사무국, 메시 아닌 바르사 지지...\"바이 아웃 유효\" [공식발표]''', [\"스포츠\", \"사회\", \"정치\", \"경제\", \"생활/문화\", \"IT/과학\"])"
   ]
  },
  {
   "cell_type": "code",
   "execution_count": 6,
   "metadata": {},
   "outputs": [
    {
     "name": "stderr",
     "output_type": "stream",
     "text": [
      "2021-01-15 11:22:07 | INFO | root | Downloading user-selected model...\n",
      "\n"
     ]
    }
   ],
   "source": [
    "zsl = Pororo(task=\"zero-topic\", lang=\"ja\")"
   ]
  },
  {
   "cell_type": "code",
   "execution_count": 7,
   "metadata": {},
   "outputs": [
    {
     "data": {
      "text/plain": [
       "{'スポーツ': 0.2, '政治': 99.71, '技術': 68.9}"
      ]
     },
     "execution_count": 7,
     "metadata": {},
     "output_type": "execute_result"
    }
   ],
   "source": [
    "zsl(\"香川 真司は、兵庫県神戸市垂水区出身のプロサッカー選手。元日本代表。ポジションはMF、FW。ボルシア・ドルトムント時代の2010-11シーズンでリーグ前半期17試合で8得点を記録し9シーズンぶりのリーグ優勝に貢献。キッカー誌が選定したブンデスリーガの年間ベスト イレブンに名を連ねた。\", [\"スポーツ\", \"政治\", \"技術\"])"
   ]
  },
  {
   "cell_type": "code",
   "execution_count": 8,
   "metadata": {},
   "outputs": [
    {
     "name": "stderr",
     "output_type": "stream",
     "text": [
      "2021-01-15 11:22:23 | INFO | root | Downloading user-selected model...\n",
      "\n"
     ]
    }
   ],
   "source": [
    "zsl = Pororo(task=\"zero-topic\", lang=\"zh\")"
   ]
  },
  {
   "cell_type": "code",
   "execution_count": 9,
   "metadata": {},
   "outputs": [
    {
     "data": {
      "text/plain": [
       "{'政治': 33.72, '经济': 3.9, '国际化': 13.67}"
      ]
     },
     "execution_count": 9,
     "metadata": {},
     "output_type": "execute_result"
    }
   ],
   "source": [
    "zsl(\"商务部14日发布数据显示，今年前10个月，我国累计对外投资904.6亿美元，同比增长5.9%。\", [\"政治\", \"经济\", \"国际化\"])"
   ]
  }
 ],
 "metadata": {
  "kernelspec": {
   "display_name": "Python 3",
   "language": "python",
   "name": "python3"
  },
  "language_info": {
   "codemirror_mode": {
    "name": "ipython",
    "version": 3
   },
   "file_extension": ".py",
   "mimetype": "text/x-python",
   "name": "python",
   "nbconvert_exporter": "python",
   "pygments_lexer": "ipython3",
   "version": "3.7.7"
  }
 },
 "nbformat": 4,
 "nbformat_minor": 4
}
