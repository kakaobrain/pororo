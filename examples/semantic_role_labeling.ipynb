{
 "cells": [
  {
   "cell_type": "code",
   "execution_count": 1,
   "metadata": {},
   "outputs": [],
   "source": [
    "from pororo import Pororo"
   ]
  },
  {
   "cell_type": "code",
   "execution_count": 2,
   "metadata": {},
   "outputs": [
    {
     "name": "stderr",
     "output_type": "stream",
     "text": [
      "2021-01-15 11:23:37 | INFO | root | Downloading user-selected model...\n",
      "\n",
      "2021-01-15 11:23:43 | INFO | pororo.models.brainbert.tasks.sequence_tagging_label | [input] dictionary: 4007 types\n",
      "2021-01-15 11:23:43 | INFO | pororo.models.brainbert.tasks.sequence_tagging_label | [segment] dictionary: 56 types\n",
      "2021-01-15 11:23:43 | INFO | pororo.models.brainbert.tasks.sequence_tagging_label | [label] dictionary: 32 types\n"
     ]
    }
   ],
   "source": [
    "srl = Pororo(task=\"srl\", lang=\"ko\")"
   ]
  },
  {
   "cell_type": "code",
   "execution_count": 3,
   "metadata": {},
   "outputs": [
    {
     "data": {
      "text/plain": [
       "[[('카터는', 'AGT'),\n",
       "  ('역삼에서', 'LOC'),\n",
       "  ('카카오브레인으로', 'GOL'),\n",
       "  ('출근한다.', 'PREDICATE')]]"
      ]
     },
     "execution_count": 3,
     "metadata": {},
     "output_type": "execute_result"
    }
   ],
   "source": [
    "srl(\"카터는 역삼에서 카카오브레인으로 출근한다.\")"
   ]
  },
  {
   "cell_type": "code",
   "execution_count": 4,
   "metadata": {},
   "outputs": [
    {
     "data": {
      "text/plain": [
       "[[('피고인은', 'AGT'),\n",
       "  ('거제에서', '-'),\n",
       "  ('400만', '-'),\n",
       "  ('원', '-'),\n",
       "  ('상당의', '-'),\n",
       "  ('순금목걸이를', 'THM'),\n",
       "  ('피해자로부터', 'SRC'),\n",
       "  ('강취하였다.', 'PREDICATE')]]"
      ]
     },
     "execution_count": 4,
     "metadata": {},
     "output_type": "execute_result"
    }
   ],
   "source": [
    "srl(\"피고인은 거제에서 400만 원 상당의 순금목걸이를 피해자로부터 강취하였다.\")"
   ]
  }
 ],
 "metadata": {
  "kernelspec": {
   "display_name": "Python 3",
   "language": "python",
   "name": "python3"
  },
  "language_info": {
   "codemirror_mode": {
    "name": "ipython",
    "version": 3
   },
   "file_extension": ".py",
   "mimetype": "text/x-python",
   "name": "python",
   "nbconvert_exporter": "python",
   "pygments_lexer": "ipython3",
   "version": "3.7.7"
  }
 },
 "nbformat": 4,
 "nbformat_minor": 4
}
