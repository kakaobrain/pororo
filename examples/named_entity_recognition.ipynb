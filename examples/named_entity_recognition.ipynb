{
 "cells": [
  {
   "cell_type": "code",
   "execution_count": 1,
   "metadata": {},
   "outputs": [
    {
     "data": {
      "text/plain": [
       "'0.2.0'"
      ]
     },
     "execution_count": 1,
     "metadata": {},
     "output_type": "execute_result"
    }
   ],
   "source": [
    "import pororo\n",
    "pororo.__version__"
   ]
  },
  {
   "cell_type": "code",
   "execution_count": 2,
   "metadata": {},
   "outputs": [],
   "source": [
    "from pororo import Pororo"
   ]
  },
  {
   "cell_type": "code",
   "execution_count": 3,
   "metadata": {},
   "outputs": [
    {
     "name": "stderr",
     "output_type": "stream",
     "text": [
      "2021-01-07 06:44:14 | INFO | pororo.models.brainbert.tasks.sequence_tagging | [input] dictionary: 50265 types\n",
      "2021-01-07 06:44:14 | INFO | pororo.models.brainbert.tasks.sequence_tagging | [label] dictionary: 41 types\n"
     ]
    }
   ],
   "source": [
    "ner = Pororo(task=\"ner\", lang=\"en\")"
   ]
  },
  {
   "cell_type": "code",
   "execution_count": 4,
   "metadata": {},
   "outputs": [
    {
     "data": {
      "text/plain": [
       "[('It', 'O'),\n",
       " ('was', 'O'),\n",
       " ('in', 'O'),\n",
       " ('midfield', 'O'),\n",
       " ('where', 'O'),\n",
       " ('Arsenal', 'ORG'),\n",
       " ('took', 'O'),\n",
       " ('control', 'O'),\n",
       " ('of', 'O'),\n",
       " ('the', 'O'),\n",
       " ('game', 'O'),\n",
       " (',', 'O'),\n",
       " ('and', 'O'),\n",
       " ('that', 'O'),\n",
       " ('was', 'O'),\n",
       " ('mainly', 'O'),\n",
       " ('down', 'O'),\n",
       " ('to', 'O'),\n",
       " ('Thomas Partey', 'PERSON'),\n",
       " ('and', 'O'),\n",
       " ('Mohamed Elneny', 'PERSON'),\n",
       " ('.', 'O')]"
      ]
     },
     "execution_count": 4,
     "metadata": {},
     "output_type": "execute_result"
    }
   ],
   "source": [
    "ner(\"It was in midfield where Arsenal took control of the game, and that was mainly down to Thomas Partey and Mohamed Elneny.\")"
   ]
  },
  {
   "cell_type": "code",
   "execution_count": 5,
   "metadata": {},
   "outputs": [
    {
     "name": "stderr",
     "output_type": "stream",
     "text": [
      "2021-01-07 06:44:25 | INFO | pororo.models.brainbert.tasks.sequence_tagging | [input] dictionary: 4005 types\n",
      "2021-01-07 06:44:25 | INFO | pororo.models.brainbert.tasks.sequence_tagging | [label] dictionary: 41 types\n"
     ]
    }
   ],
   "source": [
    "ner = Pororo(task=\"ner\", lang=\"ko\")"
   ]
  },
  {
   "cell_type": "code",
   "execution_count": 6,
   "metadata": {},
   "outputs": [
    {
     "data": {
      "text/plain": [
       "[('안녕하세요.', 'O'),\n",
       " (' ', 'O'),\n",
       " ('제', 'O'),\n",
       " (' ', 'O'),\n",
       " ('이름은', 'O'),\n",
       " (' ', 'O'),\n",
       " ('카터', 'PERSON'),\n",
       " ('입니다.', 'O')]"
      ]
     },
     "execution_count": 6,
     "metadata": {},
     "output_type": "execute_result"
    }
   ],
   "source": [
    "ner(\"안녕하세요. 제 이름은 카터입니다.\")"
   ]
  },
  {
   "cell_type": "code",
   "execution_count": 7,
   "metadata": {},
   "outputs": [
    {
     "name": "stderr",
     "output_type": "stream",
     "text": [
      "2021-01-07 06:44:30 | INFO | pororo.models.brainbert.tasks.sequence_tagging | [input] dictionary: 32000 types\n",
      "2021-01-07 06:44:30 | INFO | pororo.models.brainbert.tasks.sequence_tagging | [label] dictionary: 25 types\n",
      "2021-01-07 06:44:37 | INFO | filelock | Lock 139678134812432 acquired on /root/.cache/huggingface/transformers/15164357d71cd32532e56c1d7c2757141326ae17c53e2277bc417cc7c21da6ea.a7378a0cbee5cff668832a776d72b97a25479604fe9564d5595897f75049e7f4.lock\n"
     ]
    },
    {
     "data": {
      "application/vnd.jupyter.widget-view+json": {
       "model_id": "b04363c274374537a2d6230747a1a02b",
       "version_major": 2,
       "version_minor": 0
      },
      "text/plain": [
       "HBox(children=(FloatProgress(value=0.0, description='Downloading', max=257706.0, style=ProgressStyle(descripti…"
      ]
     },
     "metadata": {},
     "output_type": "display_data"
    },
    {
     "name": "stderr",
     "output_type": "stream",
     "text": [
      "2021-01-07 06:44:40 | INFO | filelock | Lock 139678134812432 released on /root/.cache/huggingface/transformers/15164357d71cd32532e56c1d7c2757141326ae17c53e2277bc417cc7c21da6ea.a7378a0cbee5cff668832a776d72b97a25479604fe9564d5595897f75049e7f4.lock\n"
     ]
    },
    {
     "name": "stdout",
     "output_type": "stream",
     "text": [
      "\n"
     ]
    }
   ],
   "source": [
    "ner = Pororo(task=\"ner\", lang=\"ja\")"
   ]
  },
  {
   "cell_type": "code",
   "execution_count": 8,
   "metadata": {},
   "outputs": [
    {
     "data": {
      "text/plain": [
       "[('豊臣秀吉', 'PERSON'),\n",
       " ('、', 'O'),\n",
       " ('または', 'O'),\n",
       " ('羽柴秀吉', 'PERSON'),\n",
       " ('は', 'O'),\n",
       " ('、', 'O'),\n",
       " ('戦国時代', 'DATE'),\n",
       " ('から', 'O'),\n",
       " ('安土桃山時代', 'DATE'),\n",
       " ('にかけて', 'O'),\n",
       " ('の', 'O'),\n",
       " ('武将', 'O'),\n",
       " ('、', 'O'),\n",
       " ('大名', 'O'),\n",
       " ('。', 'O'),\n",
       " ('天下', 'O'),\n",
       " ('人', 'O'),\n",
       " ('、', 'O'),\n",
       " ('武家', 'O'),\n",
       " ('関白', 'O'),\n",
       " ('、太閤', 'O'),\n",
       " ('。', 'O'),\n",
       " ('三', 'O'),\n",
       " ('英', 'O'),\n",
       " ('傑', 'O'),\n",
       " ('の', 'O'),\n",
       " ('一', 'O'),\n",
       " ('人', 'O'),\n",
       " ('。', 'O')]"
      ]
     },
     "execution_count": 8,
     "metadata": {},
     "output_type": "execute_result"
    }
   ],
   "source": [
    "ner(\"豊臣 秀吉、または羽柴 秀吉は、戦国時代から安土桃山時代にかけての武将、大名。天下人、武家関白、太閤。三英傑の一人。\")"
   ]
  },
  {
   "cell_type": "code",
   "execution_count": 9,
   "metadata": {},
   "outputs": [
    {
     "name": "stderr",
     "output_type": "stream",
     "text": [
      "2021-01-07 06:44:40 | INFO | pororo.models.brainbert.tasks.sequence_tagging | [input] dictionary: 21128 types\n",
      "2021-01-07 06:44:40 | INFO | pororo.models.brainbert.tasks.sequence_tagging | [label] dictionary: 41 types\n",
      "2021-01-07 06:44:47 | INFO | filelock | Lock 139678124952656 acquired on /root/.cache/huggingface/transformers/36acdf4f3edf0a14ffb2b2c68ba47e93abd9448825202377ddb16dae8114fe07.accd894ff58c6ff7bd4f3072890776c14f4ea34fcc08e79cd88c2d157756dceb.lock\n"
     ]
    },
    {
     "data": {
      "application/vnd.jupyter.widget-view+json": {
       "model_id": "5c2c8412e5a04720a560b086c02371fd",
       "version_major": 2,
       "version_minor": 0
      },
      "text/plain": [
       "HBox(children=(FloatProgress(value=0.0, description='Downloading', max=109540.0, style=ProgressStyle(descripti…"
      ]
     },
     "metadata": {},
     "output_type": "display_data"
    },
    {
     "name": "stderr",
     "output_type": "stream",
     "text": [
      "2021-01-07 06:44:50 | INFO | filelock | Lock 139678124952656 released on /root/.cache/huggingface/transformers/36acdf4f3edf0a14ffb2b2c68ba47e93abd9448825202377ddb16dae8114fe07.accd894ff58c6ff7bd4f3072890776c14f4ea34fcc08e79cd88c2d157756dceb.lock\n"
     ]
    },
    {
     "name": "stdout",
     "output_type": "stream",
     "text": [
      "\n"
     ]
    }
   ],
   "source": [
    "ner = Pororo(task=\"ner\", lang=\"zh\")"
   ]
  },
  {
   "cell_type": "code",
   "execution_count": 10,
   "metadata": {},
   "outputs": [
    {
     "data": {
      "text/plain": [
       "[('毛泽东', 'PERSON'),\n",
       " ('（', 'O'),\n",
       " ('1893年12月26日－1976年9月9日', 'DATE'),\n",
       " ('）', 'O'),\n",
       " ('，', 'O'),\n",
       " ('字润之', 'O'),\n",
       " ('，', 'O'),\n",
       " ('湖南', 'GPE'),\n",
       " ('湘潭', 'GPE'),\n",
       " ('人', 'O'),\n",
       " ('。', 'O'),\n",
       " ('中华民国大陆时期', 'GPE'),\n",
       " ('、', 'O'),\n",
       " ('中国共产党', 'ORG'),\n",
       " ('和', 'O'),\n",
       " ('中华人民共和国', 'GPE'),\n",
       " ('的', 'O'),\n",
       " ('重', 'O'),\n",
       " ('要', 'O'),\n",
       " ('政', 'O'),\n",
       " ('治', 'O'),\n",
       " ('家', 'O'),\n",
       " ('、', 'O'),\n",
       " ('经', 'O'),\n",
       " ('济', 'O'),\n",
       " ('家', 'O'),\n",
       " ('、', 'O'),\n",
       " ('军', 'O'),\n",
       " ('事', 'O'),\n",
       " ('家', 'O'),\n",
       " ('、', 'O'),\n",
       " ('战', 'O'),\n",
       " ('略', 'O'),\n",
       " ('家', 'O'),\n",
       " ('、', 'O'),\n",
       " ('外', 'O'),\n",
       " ('交', 'O'),\n",
       " ('家', 'O'),\n",
       " ('和', 'O'),\n",
       " ('诗', 'O'),\n",
       " ('人', 'O'),\n",
       " ('。', 'O')]"
      ]
     },
     "execution_count": 10,
     "metadata": {},
     "output_type": "execute_result"
    }
   ],
   "source": [
    "ner(\"毛泽东（1893年12月26日－1976年9月9日），字润之，湖南湘潭人。中华民国大陆时期、中国共产党和中华人民共和国的重要政治家、经济家、军事家、战略家、外交家和诗人。\")"
   ]
  },
  {
   "cell_type": "code",
   "execution_count": null,
   "metadata": {},
   "outputs": [],
   "source": []
  }
 ],
 "metadata": {
  "kernelspec": {
   "display_name": "Python 3",
   "language": "python",
   "name": "python3"
  },
  "language_info": {
   "codemirror_mode": {
    "name": "ipython",
    "version": 3
   },
   "file_extension": ".py",
   "mimetype": "text/x-python",
   "name": "python",
   "nbconvert_exporter": "python",
   "pygments_lexer": "ipython3",
   "version": "3.7.7"
  }
 },
 "nbformat": 4,
 "nbformat_minor": 4
}
