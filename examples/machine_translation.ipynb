{
 "cells": [
  {
   "cell_type": "markdown",
   "id": "biblical-offer",
   "metadata": {},
   "source": [
    "## Machine Translation Examples\n",
    "- Machine translation examples using Transformer models."
   ]
  },
  {
   "cell_type": "code",
   "execution_count": 1,
   "id": "coordinated-locator",
   "metadata": {},
   "outputs": [],
   "source": [
    "from pororo import Pororo"
   ]
  },
  {
   "cell_type": "markdown",
   "id": "judicial-cement",
   "metadata": {},
   "source": [
    "### 1. transformer.large.multi.mtpg\n",
    "- default translation model is 'transformer.large.multi.mtpg'.\n",
    "- It has 6 encoder layers and 6 decoder layers."
   ]
  },
  {
   "cell_type": "code",
   "execution_count": 2,
   "id": "deadly-valentine",
   "metadata": {},
   "outputs": [],
   "source": [
    "mt = Pororo(task=\"translation\", lang=\"multi\")"
   ]
  },
  {
   "cell_type": "code",
   "execution_count": 3,
   "id": "wired-colombia",
   "metadata": {},
   "outputs": [
    {
     "data": {
      "text/plain": [
       "'Kevin is still working.'"
      ]
     },
     "execution_count": 3,
     "metadata": {},
     "output_type": "execute_result"
    }
   ],
   "source": [
    "mt(\"케빈은 아직도 일을 하고 있다.\", src=\"ko\", tgt=\"en\")"
   ]
  },
  {
   "cell_type": "code",
   "execution_count": 4,
   "id": "talented-dominant",
   "metadata": {},
   "outputs": [
    {
     "data": {
      "text/plain": [
       "'사신은 사과밖에 먹지 않는다.'"
      ]
     },
     "execution_count": 4,
     "metadata": {},
     "output_type": "execute_result"
    }
   ],
   "source": [
    "mt(\"死神は りんごしか食べない。\", src=\"ja\", tgt=\"ko\")"
   ]
  },
  {
   "cell_type": "code",
   "execution_count": 5,
   "id": "organizational-target",
   "metadata": {},
   "outputs": [
    {
     "data": {
      "text/plain": [
       "'인생의 위대한 목표는 지식이 아니라 행동이다.'"
      ]
     },
     "execution_count": 5,
     "metadata": {},
     "output_type": "execute_result"
    }
   ],
   "source": [
    "mt(\"人生的伟大目标，不是知识而是行动。\", src=\"zh\", tgt=\"ko\")"
   ]
  },
  {
   "cell_type": "code",
   "execution_count": 6,
   "id": "three-cartoon",
   "metadata": {},
   "outputs": [
    {
     "data": {
      "text/plain": [
       "'케빈이 일을 떠나려고 하자, 라이언은 \"아직 돌아갈 수 없어!\"라고 말했다.'"
      ]
     },
     "execution_count": 6,
     "metadata": {},
     "output_type": "execute_result"
    }
   ],
   "source": [
    "# supports various decoding strategies \n",
    "mt(\n",
    "    \"When Kevin tried to leave work, Ryan said, 'You can't go home yet!'\", \n",
    "    src=\"en\", \n",
    "    tgt=\"ko\",\n",
    "    beam=5,\n",
    "    len_penalty=0.6,\n",
    "    no_repeat_ngram_size=3,\n",
    "    top_k=5,\n",
    "    top_p=0.9\n",
    ")"
   ]
  },
  {
   "cell_type": "markdown",
   "id": "further-reaction",
   "metadata": {},
   "source": [
    "### 2. transformer.large.multi.fast.mtpg\n",
    "- This model is twice as fast as default model.\n",
    "- However, there are some performance degradation.\n",
    "- It has 12 encoder layers and 1 decoder layers."
   ]
  },
  {
   "cell_type": "code",
   "execution_count": 7,
   "id": "skilled-jacket",
   "metadata": {},
   "outputs": [],
   "source": [
    "mt_fast = Pororo(task=\"translation\", lang=\"multi\", model=\"transformer.large.multi.fast.mtpg\")"
   ]
  },
  {
   "cell_type": "code",
   "execution_count": 8,
   "id": "acknowledged-richardson",
   "metadata": {},
   "outputs": [
    {
     "data": {
      "text/plain": [
       "'Kevin is still working.'"
      ]
     },
     "execution_count": 8,
     "metadata": {},
     "output_type": "execute_result"
    }
   ],
   "source": [
    "mt_fast(\"케빈은 아직도 일을 하고 있다.\", src=\"ko\", tgt=\"en\")"
   ]
  },
  {
   "cell_type": "code",
   "execution_count": 9,
   "id": "signed-attraction",
   "metadata": {},
   "outputs": [
    {
     "data": {
      "text/plain": [
       "'사신은 사과밖에 먹지 않는다.'"
      ]
     },
     "execution_count": 9,
     "metadata": {},
     "output_type": "execute_result"
    }
   ],
   "source": [
    "mt_fast(\"死神は りんごしか食べない。\", src=\"ja\", tgt=\"ko\")"
   ]
  },
  {
   "cell_type": "code",
   "execution_count": 10,
   "id": "molecular-columbus",
   "metadata": {},
   "outputs": [
    {
     "data": {
      "text/plain": [
       "'인생의 위대한 목표는 지식이 아니라 행동이다.'"
      ]
     },
     "execution_count": 10,
     "metadata": {},
     "output_type": "execute_result"
    }
   ],
   "source": [
    "mt_fast(\"人生的伟大目标，不是知识而是行动。\", src=\"zh\", tgt=\"ko\")"
   ]
  },
  {
   "cell_type": "code",
   "execution_count": 11,
   "id": "choice-filling",
   "metadata": {},
   "outputs": [
    {
     "data": {
      "text/plain": [
       "'케빈이 퇴근하려고 했을 때 라이언은 \"아직 집에도 갈 수 없다!\"라고 말했다.'"
      ]
     },
     "execution_count": 11,
     "metadata": {},
     "output_type": "execute_result"
    }
   ],
   "source": [
    "# supports various decoding strategies \n",
    "mt_fast(\n",
    "    \"When Kevin tried to leave work, Ryan said, 'You can't go home yet!'\", \n",
    "    src=\"en\", \n",
    "    tgt=\"ko\",\n",
    "    beam=5,\n",
    "    len_penalty=0.6,\n",
    "    no_repeat_ngram_size=3,\n",
    "    top_k=5,\n",
    "    top_p=0.9\n",
    ")"
   ]
  }
 ],
 "metadata": {
  "kernelspec": {
   "display_name": "Python 3",
   "language": "python",
   "name": "python3"
  },
  "language_info": {
   "codemirror_mode": {
    "name": "ipython",
    "version": 3
   },
   "file_extension": ".py",
   "mimetype": "text/x-python",
   "name": "python",
   "nbconvert_exporter": "python",
   "pygments_lexer": "ipython3",
   "version": "3.7.7"
  }
 },
 "nbformat": 4,
 "nbformat_minor": 5
}
