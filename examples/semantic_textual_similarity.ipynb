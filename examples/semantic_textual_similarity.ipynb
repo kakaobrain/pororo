{
 "cells": [
  {
   "cell_type": "code",
   "execution_count": 1,
   "metadata": {},
   "outputs": [],
   "source": [
    "from pororo import Pororo"
   ]
  },
  {
   "cell_type": "code",
   "execution_count": 2,
   "metadata": {},
   "outputs": [
    {
     "name": "stderr",
     "output_type": "stream",
     "text": [
      "2021-01-15 14:11:37 | INFO | root | Downloading user-selected model...\n",
      "\n"
     ]
    }
   ],
   "source": [
    "sts = Pororo(task=\"similarity\", lang=\"ko\")"
   ]
  },
  {
   "cell_type": "code",
   "execution_count": 3,
   "metadata": {},
   "outputs": [
    {
     "data": {
      "text/plain": [
       "0.415"
      ]
     },
     "execution_count": 3,
     "metadata": {},
     "output_type": "execute_result"
    }
   ],
   "source": [
    "sts(\"나는 동물을 좋아하는 사람이야\", \"강아지를 좋아하는 아버지\")"
   ]
  },
  {
   "cell_type": "code",
   "execution_count": 4,
   "metadata": {},
   "outputs": [
    {
     "name": "stderr",
     "output_type": "stream",
     "text": [
      "2021-01-15 14:11:58 | INFO | root | Downloading user-selected model...\n",
      "\n"
     ]
    }
   ],
   "source": [
    "sts = Pororo(task=\"similarity\", lang=\"ja\")"
   ]
  },
  {
   "cell_type": "code",
   "execution_count": 5,
   "metadata": {},
   "outputs": [
    {
     "data": {
      "text/plain": [
       "0.746"
      ]
     },
     "execution_count": 5,
     "metadata": {},
     "output_type": "execute_result"
    }
   ],
   "source": [
    "sts(\"ベビーパンダがスライドを下ります。\", \"パンダがスライドを下って滑ります。\") # [\"아기 팬더가 슬라이드를 내려 갑니다.\", \"팬더가 슬라이드를 내려 미끄러집니다.\"]"
   ]
  },
  {
   "cell_type": "code",
   "execution_count": 6,
   "metadata": {},
   "outputs": [
    {
     "name": "stderr",
     "output_type": "stream",
     "text": [
      "2021-01-15 14:12:13 | INFO | root | Downloading user-selected model...\n",
      "\n"
     ]
    }
   ],
   "source": [
    "sts = Pororo(task=\"similarity\", lang=\"zh\")"
   ]
  },
  {
   "cell_type": "code",
   "execution_count": 7,
   "metadata": {},
   "outputs": [
    {
     "data": {
      "text/plain": [
       "0.669"
      ]
     },
     "execution_count": 7,
     "metadata": {},
     "output_type": "execute_result"
    }
   ],
   "source": [
    "sts('三名男子在街上做同样的舞蹈。', '街上有三个无衬衫的男人在跳舞。')  # [\"세 남자가 거리에서 같은 춤을 춥니다.\", \"거리에서 춤추는 세 명의 벗은 남자가 있습니다.\"]"
   ]
  },
  {
   "cell_type": "code",
   "execution_count": 8,
   "metadata": {},
   "outputs": [
    {
     "name": "stderr",
     "output_type": "stream",
     "text": [
      "2021-01-15 14:12:26 | INFO | root | Downloading user-selected model...\n",
      "\n"
     ]
    }
   ],
   "source": [
    "sts = Pororo(task=\"similarity\", lang=\"en\")"
   ]
  },
  {
   "cell_type": "code",
   "execution_count": 9,
   "metadata": {},
   "outputs": [
    {
     "data": {
      "text/plain": [
       "0.921"
      ]
     },
     "execution_count": 9,
     "metadata": {},
     "output_type": "execute_result"
    }
   ],
   "source": [
    "sts(\"Two dogs and one cat sitting on couch.\", \"Two dogs and a cat resting on a couch.\")"
   ]
  }
 ],
 "metadata": {
  "kernelspec": {
   "display_name": "Python 3",
   "language": "python",
   "name": "python3"
  },
  "language_info": {
   "codemirror_mode": {
    "name": "ipython",
    "version": 3
   },
   "file_extension": ".py",
   "mimetype": "text/x-python",
   "name": "python",
   "nbconvert_exporter": "python",
   "pygments_lexer": "ipython3",
   "version": "3.7.7"
  }
 },
 "nbformat": 4,
 "nbformat_minor": 4
}
