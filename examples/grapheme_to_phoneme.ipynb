{
 "cells": [
  {
   "cell_type": "code",
   "execution_count": 1,
   "metadata": {},
   "outputs": [],
   "source": [
    "from pororo import Pororo"
   ]
  },
  {
   "cell_type": "code",
   "execution_count": 2,
   "metadata": {},
   "outputs": [
    {
     "name": "stderr",
     "output_type": "stream",
     "text": [
      "[nltk_data] Downloading package cmudict to /root/nltk_data...\n",
      "[nltk_data]   Unzipping corpora/cmudict.zip.\n"
     ]
    }
   ],
   "source": [
    "g2p = Pororo(task=\"g2p\", lang=\"ko\")"
   ]
  },
  {
   "cell_type": "code",
   "execution_count": 3,
   "metadata": {},
   "outputs": [
    {
     "data": {
      "text/plain": [
       "'어제는 날씨가 말간는데, 오느른 흐리다.'"
      ]
     },
     "execution_count": 3,
     "metadata": {},
     "output_type": "execute_result"
    }
   ],
   "source": [
    "g2p(\"어제는 날씨가 맑았는데, 오늘은 흐리다.\")"
   ]
  },
  {
   "cell_type": "code",
   "execution_count": 4,
   "metadata": {},
   "outputs": [
    {
     "data": {
      "text/plain": [
       "[('어제는', '어제는'),\n",
       " ('날씨가', '날씨가'),\n",
       " ('맑았는데,', '말간는데,'),\n",
       " ('오늘은', '오느른'),\n",
       " ('흐리다.', '흐리다.')]"
      ]
     },
     "execution_count": 4,
     "metadata": {},
     "output_type": "execute_result"
    }
   ],
   "source": [
    "g2p(\"어제는 날씨가 맑았는데, 오늘은 흐리다.\", align=True)"
   ]
  },
  {
   "cell_type": "code",
   "execution_count": 5,
   "metadata": {},
   "outputs": [],
   "source": [
    "g2p = Pororo(task=\"g2p\", lang=\"en\")"
   ]
  },
  {
   "cell_type": "code",
   "execution_count": 6,
   "metadata": {},
   "outputs": [
    {
     "data": {
      "text/plain": [
       "['AY1',\n",
       " ' ',\n",
       " 'HH',\n",
       " 'AE1',\n",
       " 'V',\n",
       " ' ',\n",
       " 'T',\n",
       " 'UW1',\n",
       " ' ',\n",
       " 'HH',\n",
       " 'AH1',\n",
       " 'N',\n",
       " 'D',\n",
       " 'R',\n",
       " 'AH0',\n",
       " 'D',\n",
       " ' ',\n",
       " 'F',\n",
       " 'IH1',\n",
       " 'F',\n",
       " 'T',\n",
       " 'IY0',\n",
       " ' ',\n",
       " 'D',\n",
       " 'AA1',\n",
       " 'L',\n",
       " 'ER0',\n",
       " 'Z',\n",
       " ' ',\n",
       " 'IH0',\n",
       " 'N',\n",
       " ' ',\n",
       " 'M',\n",
       " 'AY1',\n",
       " ' ',\n",
       " 'P',\n",
       " 'AA1',\n",
       " 'K',\n",
       " 'AH0',\n",
       " 'T',\n",
       " ' ',\n",
       " '.']"
      ]
     },
     "execution_count": 6,
     "metadata": {},
     "output_type": "execute_result"
    }
   ],
   "source": [
    "g2p(\"I have $250 in my pocket.\")"
   ]
  },
  {
   "cell_type": "code",
   "execution_count": 7,
   "metadata": {},
   "outputs": [],
   "source": [
    "g2p = Pororo(task=\"g2p\", lang=\"zh\")"
   ]
  },
  {
   "cell_type": "code",
   "execution_count": 8,
   "metadata": {},
   "outputs": [
    {
     "data": {
      "text/plain": [
       "'ran2 er2 , ta1 hong2 le5 2 0 nian2 yi3 hou4 , ta1 jing4 tui4 chu1 le5 da4 jia1 de5 shi4 xian4 。'"
      ]
     },
     "execution_count": 8,
     "metadata": {},
     "output_type": "execute_result"
    }
   ],
   "source": [
    "g2p(\"然而，他红了20年以后，他竟退出了大家的视线。\")"
   ]
  },
  {
   "cell_type": "code",
   "execution_count": 9,
   "metadata": {},
   "outputs": [
    {
     "data": {
      "text/plain": [
       "[('然', 'ran2'),\n",
       " ('而', 'er2'),\n",
       " (',', ','),\n",
       " ('他', 'ta1'),\n",
       " ('红', 'hong2'),\n",
       " ('了', 'le5'),\n",
       " ('2', '2'),\n",
       " ('0', '0'),\n",
       " ('年', 'nian2'),\n",
       " ('以', 'yi3'),\n",
       " ('后', 'hou4'),\n",
       " (',', ','),\n",
       " ('他', 'ta1'),\n",
       " ('竟', 'jing4'),\n",
       " ('退', 'tui4'),\n",
       " ('出', 'chu1'),\n",
       " ('了', 'le5'),\n",
       " ('大', 'da4'),\n",
       " ('家', 'jia1'),\n",
       " ('的', 'de5'),\n",
       " ('视', 'shi4'),\n",
       " ('线', 'xian4'),\n",
       " ('。', '。')]"
      ]
     },
     "execution_count": 9,
     "metadata": {},
     "output_type": "execute_result"
    }
   ],
   "source": [
    "g2p(\"然而，他红了20年以后，他竟退出了大家的视线。\", align=True)"
   ]
  },
  {
   "cell_type": "code",
   "execution_count": 10,
   "metadata": {},
   "outputs": [
    {
     "data": {
      "text/plain": [
       "[('然', 'ran'),\n",
       " ('而', 'er'),\n",
       " (',', ','),\n",
       " ('他', 'ta'),\n",
       " ('红', 'hong'),\n",
       " ('了', 'le'),\n",
       " ('2', '2'),\n",
       " ('0', '0'),\n",
       " ('年', 'nian'),\n",
       " ('以', 'yi'),\n",
       " ('后', 'hou'),\n",
       " (',', ','),\n",
       " ('他', 'ta'),\n",
       " ('竟', 'jing'),\n",
       " ('退', 'tui'),\n",
       " ('出', 'chu'),\n",
       " ('了', 'le'),\n",
       " ('大', 'da'),\n",
       " ('家', 'jia'),\n",
       " ('的', 'de'),\n",
       " ('视', 'shi'),\n",
       " ('线', 'xian'),\n",
       " ('。', '。')]"
      ]
     },
     "execution_count": 10,
     "metadata": {},
     "output_type": "execute_result"
    }
   ],
   "source": [
    "g2p(\"然而，他红了20年以后，他竟退出了大家的视线。\", align=True, tone=False)"
   ]
  },
  {
   "cell_type": "code",
   "execution_count": 11,
   "metadata": {},
   "outputs": [],
   "source": [
    "g2p = Pororo(task=\"g2p\", lang=\"ja\")"
   ]
  },
  {
   "cell_type": "code",
   "execution_count": 12,
   "metadata": {},
   "outputs": [
    {
     "data": {
      "text/plain": [
       "'python ga daisuki desu'"
      ]
     },
     "execution_count": 12,
     "metadata": {},
     "output_type": "execute_result"
    }
   ],
   "source": [
    "g2p(\"pythonが大好きです\")"
   ]
  },
  {
   "cell_type": "code",
   "execution_count": 13,
   "metadata": {},
   "outputs": [
    {
     "data": {
      "text/plain": [
       "[('python', 'python'), ('が', 'ga'), ('大好き', 'daisuki'), ('です', 'desu')]"
      ]
     },
     "execution_count": 13,
     "metadata": {},
     "output_type": "execute_result"
    }
   ],
   "source": [
    "g2p(\"pythonが大好きです\", align=True)"
   ]
  }
 ],
 "metadata": {
  "kernelspec": {
   "display_name": "Python 3",
   "language": "python",
   "name": "python3"
  },
  "language_info": {
   "codemirror_mode": {
    "name": "ipython",
    "version": 3
   },
   "file_extension": ".py",
   "mimetype": "text/x-python",
   "name": "python",
   "nbconvert_exporter": "python",
   "pygments_lexer": "ipython3",
   "version": "3.7.7"
  }
 },
 "nbformat": 4,
 "nbformat_minor": 4
}
