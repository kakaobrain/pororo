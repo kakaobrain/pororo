{
 "cells": [
  {
   "cell_type": "code",
   "execution_count": 1,
   "metadata": {},
   "outputs": [],
   "source": [
    "from pororo import Pororo"
   ]
  },
  {
   "cell_type": "code",
   "execution_count": 2,
   "metadata": {},
   "outputs": [
    {
     "name": "stderr",
     "output_type": "stream",
     "text": [
      "2021-01-15 13:59:35 | INFO | root | Downloading user-selected model...\n",
      "\n"
     ]
    }
   ],
   "source": [
    "cse = Pororo(task=\"cse\", lang=\"ko\")"
   ]
  },
  {
   "cell_type": "code",
   "execution_count": 3,
   "metadata": {},
   "outputs": [
    {
     "data": {
      "text/plain": [
       "array([[-0.21313499, -0.11196347, -0.02407363, ..., -0.257121  ,\n",
       "        -0.23565282, -0.12325846],\n",
       "       [ 0.13783562,  0.26692644, -0.6433769 , ...,  0.01077127,\n",
       "        -0.1140449 , -0.02197284],\n",
       "       [ 0.08260017,  0.24554963, -0.66306186, ...,  0.02181666,\n",
       "        -0.11622936, -0.06948958],\n",
       "       [-0.20931262, -0.13545132, -0.33572283, ..., -0.12552139,\n",
       "        -0.19938053, -0.01137309],\n",
       "       [-0.25663504, -0.11936926, -0.017976  , ..., -0.23691526,\n",
       "        -0.19555922, -0.18572085]], dtype=float32)"
      ]
     },
     "execution_count": 3,
     "metadata": {},
     "output_type": "execute_result"
    }
   ],
   "source": [
    "cse(\"하늘을 나는 새\")"
   ]
  },
  {
   "cell_type": "code",
   "execution_count": 4,
   "metadata": {},
   "outputs": [],
   "source": [
    "cse = Pororo(task=\"cse\", lang=\"zh\")"
   ]
  },
  {
   "cell_type": "code",
   "execution_count": 5,
   "metadata": {},
   "outputs": [
    {
     "data": {
      "text/plain": [
       "array([[ 0.61136395,  0.2461369 ,  0.62599105, ...,  0.32798222,\n",
       "         0.10512915, -0.0680856 ],\n",
       "       [ 0.06970058,  0.52187717,  0.6152271 , ..., -0.6410562 ,\n",
       "        -0.02057006,  0.07992135],\n",
       "       [ 0.7756899 , -0.28164795, -0.20371749, ..., -0.08361968,\n",
       "         0.9116352 , -0.28724328],\n",
       "       ...,\n",
       "       [-0.03480861, -0.6914586 ,  1.0776819 , ..., -0.363301  ,\n",
       "         0.992113  , -0.3998598 ],\n",
       "       [ 0.35743162,  0.18479495,  0.9706205 , ..., -0.49057552,\n",
       "        -0.01022719, -0.27954486],\n",
       "       [-0.00930946, -0.04459579,  1.0253954 , ...,  0.30732906,\n",
       "         0.2221387 ,  0.2522629 ]], dtype=float32)"
      ]
     },
     "execution_count": 5,
     "metadata": {},
     "output_type": "execute_result"
    }
   ],
   "source": [
    "cse(\"一群人抬头看着建筑物屋顶边缘的3人。\")"
   ]
  },
  {
   "cell_type": "code",
   "execution_count": 6,
   "metadata": {},
   "outputs": [],
   "source": [
    "cse = Pororo(task=\"cse\", lang=\"ja\")"
   ]
  },
  {
   "cell_type": "code",
   "execution_count": 7,
   "metadata": {},
   "outputs": [
    {
     "data": {
      "text/plain": [
       "array([[-0.3691184 , -0.31919414, -0.06038238, ..., -0.01245691,\n",
       "        -0.36716142,  0.29445615],\n",
       "       [ 0.45561913, -0.766533  , -0.04330439, ..., -0.16813564,\n",
       "         0.2073772 , -0.6860079 ],\n",
       "       [ 0.19690783, -0.36900577,  0.09201051, ..., -0.40159544,\n",
       "        -0.88661563, -0.97859174],\n",
       "       [-0.39877692, -0.60232645, -0.06339618, ..., -0.003511  ,\n",
       "         0.09833408, -0.34499183],\n",
       "       [-0.89799696, -0.5537317 , -0.05828146, ...,  0.20130324,\n",
       "        -0.3778583 , -0.4370842 ]], dtype=float32)"
      ]
     },
     "execution_count": 7,
     "metadata": {},
     "output_type": "execute_result"
    }
   ],
   "source": [
    "cse(\"おはようございます\")"
   ]
  }
 ],
 "metadata": {
  "kernelspec": {
   "display_name": "Python 3",
   "language": "python",
   "name": "python3"
  },
  "language_info": {
   "codemirror_mode": {
    "name": "ipython",
    "version": 3
   },
   "file_extension": ".py",
   "mimetype": "text/x-python",
   "name": "python",
   "nbconvert_exporter": "python",
   "pygments_lexer": "ipython3",
   "version": "3.7.7"
  }
 },
 "nbformat": 4,
 "nbformat_minor": 4
}
