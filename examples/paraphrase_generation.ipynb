{
 "cells": [
  {
   "cell_type": "markdown",
   "id": "indian-publisher",
   "metadata": {},
   "source": [
    "## Parapharase Generation Examples\n",
    "- paraphrase generation using Transformer Seq2Seq\n",
    "- paraphrase is to repeat something written or spoken using different words"
   ]
  },
  {
   "cell_type": "code",
   "execution_count": 1,
   "id": "satisfied-kazakhstan",
   "metadata": {},
   "outputs": [],
   "source": [
    "from pororo import Pororo"
   ]
  },
  {
   "cell_type": "markdown",
   "id": "variable-bride",
   "metadata": {},
   "source": [
    "### 1. transformer.large.multi.mtpg\n",
    "- default paraphrase generation model is 'transformer.large.multi.mtpg'.\n",
    "- It has 6 encoder layers and 6 decoder layers."
   ]
  },
  {
   "cell_type": "code",
   "execution_count": 2,
   "id": "universal-paste",
   "metadata": {},
   "outputs": [],
   "source": [
    "pg = Pororo(task=\"pg\", lang=\"ko\")"
   ]
  },
  {
   "cell_type": "code",
   "execution_count": 3,
   "id": "tight-judge",
   "metadata": {},
   "outputs": [
    {
     "data": {
      "text/plain": [
       "'당신이 길들인 것에 대한 책임이 있어요.'"
      ]
     },
     "execution_count": 3,
     "metadata": {},
     "output_type": "execute_result"
    }
   ],
   "source": [
    "pg(\"너는 네가 길들인 것에 대한 책임이 있어.\")"
   ]
  },
  {
   "cell_type": "code",
   "execution_count": 4,
   "id": "concerned-gateway",
   "metadata": {},
   "outputs": [
    {
     "data": {
      "text/plain": [
       "'네가 길들인 것에 대한 책임이 있어.'"
      ]
     },
     "execution_count": 4,
     "metadata": {},
     "output_type": "execute_result"
    }
   ],
   "source": [
    "# supports various decoding strategies \n",
    "pg(\n",
    "    \"너는 네가 길들인 것에 대한 책임이 있어.\", \n",
    "    beam=5,\n",
    "    len_penalty=0.6,\n",
    "    no_repeat_ngram_size=3,\n",
    "    top_k=50,\n",
    "    top_p=0.7\n",
    ")"
   ]
  },
  {
   "cell_type": "code",
   "execution_count": 5,
   "id": "czech-small",
   "metadata": {},
   "outputs": [],
   "source": [
    "pg = Pororo(task=\"pg\", lang=\"en\")"
   ]
  },
  {
   "cell_type": "code",
   "execution_count": 6,
   "id": "waiting-genre",
   "metadata": {},
   "outputs": [
    {
     "data": {
      "text/plain": [
       "\"The stars are lovely. because of the flowers you ca n't see.\""
      ]
     },
     "execution_count": 6,
     "metadata": {},
     "output_type": "execute_result"
    }
   ],
   "source": [
    "pg(\"The stars are beautiful. Because of the bunch of flowers you can't see.\")"
   ]
  },
  {
   "cell_type": "code",
   "execution_count": 7,
   "id": "maritime-stupid",
   "metadata": {},
   "outputs": [],
   "source": [
    "pg = Pororo(task=\"pg\", lang=\"ja\")"
   ]
  },
  {
   "cell_type": "code",
   "execution_count": 8,
   "id": "undefined-safety",
   "metadata": {},
   "outputs": [
    {
     "data": {
      "text/plain": [
       "'午後四時に来たら、三時から幸せになります。'"
      ]
     },
     "execution_count": 8,
     "metadata": {},
     "output_type": "execute_result"
    }
   ],
   "source": [
    "pg(\"もし午後4時にあなたが来るなら、私は3時から幸せになり始める。\")"
   ]
  },
  {
   "cell_type": "code",
   "execution_count": 9,
   "id": "endangered-duncan",
   "metadata": {},
   "outputs": [],
   "source": [
    "pg = Pororo(task=\"pg\", lang=\"zh\")"
   ]
  },
  {
   "cell_type": "code",
   "execution_count": 10,
   "id": "portable-quality",
   "metadata": {},
   "outputs": [
    {
     "data": {
      "text/plain": [
       "'沙漠是美丽的,因为它在某个地方隐藏着泉水。'"
      ]
     },
     "execution_count": 10,
     "metadata": {},
     "output_type": "execute_result"
    }
   ],
   "source": [
    "pg(\"沙漠之所以美丽，是因为它在某个地方隐藏着泉气。\")"
   ]
  },
  {
   "cell_type": "markdown",
   "id": "portable-poetry",
   "metadata": {},
   "source": [
    "### 2. transformer.large.multi.fast.mtpg\n",
    "- This model is twice as fast as default model.\n",
    "- However, there are some performance degradation.\n",
    "- It has 12 encoder layers and 1 decoder layers."
   ]
  },
  {
   "cell_type": "code",
   "execution_count": 11,
   "id": "included-shooting",
   "metadata": {},
   "outputs": [],
   "source": [
    "pg = Pororo(task=\"pg\", lang=\"ko\", model=\"transformer.large.multi.fast.mtpg\")"
   ]
  },
  {
   "cell_type": "code",
   "execution_count": 12,
   "id": "focal-archive",
   "metadata": {},
   "outputs": [
    {
     "data": {
      "text/plain": [
       "'네가 길들인 것에 대한 책임이 있어.'"
      ]
     },
     "execution_count": 12,
     "metadata": {},
     "output_type": "execute_result"
    }
   ],
   "source": [
    "pg(\"너는 네가 길들인 것에 대한 책임이 있어.\")"
   ]
  },
  {
   "cell_type": "code",
   "execution_count": 13,
   "id": "prepared-evans",
   "metadata": {},
   "outputs": [
    {
     "data": {
      "text/plain": [
       "'네가 길들인 것에 대한 책임이 있어.'"
      ]
     },
     "execution_count": 13,
     "metadata": {},
     "output_type": "execute_result"
    }
   ],
   "source": [
    "# supports various decoding strategies \n",
    "pg(\n",
    "    \"너는 네가 길들인 것에 대한 책임이 있어.\", \n",
    "    beam=5,\n",
    "    len_penalty=0.6,\n",
    "    no_repeat_ngram_size=3,\n",
    "    top_k=50,\n",
    "    top_p=0.7\n",
    ")"
   ]
  },
  {
   "cell_type": "code",
   "execution_count": 14,
   "id": "orange-prevention",
   "metadata": {},
   "outputs": [],
   "source": [
    "pg = Pororo(task=\"pg\", lang=\"en\", model=\"transformer.large.multi.fast.mtpg\")"
   ]
  },
  {
   "cell_type": "code",
   "execution_count": 15,
   "id": "virtual-newcastle",
   "metadata": {},
   "outputs": [
    {
     "data": {
      "text/plain": [
       "\"The stars are beautiful. because of the bunch of flowers you ca n't see.\""
      ]
     },
     "execution_count": 15,
     "metadata": {},
     "output_type": "execute_result"
    }
   ],
   "source": [
    "pg(\"The stars are beautiful. Because of the bunch of flowers you can't see.\")"
   ]
  },
  {
   "cell_type": "code",
   "execution_count": 16,
   "id": "sound-subscription",
   "metadata": {},
   "outputs": [],
   "source": [
    "pg = Pororo(task=\"pg\", lang=\"ja\", model=\"transformer.large.multi.fast.mtpg\")"
   ]
  },
  {
   "cell_type": "code",
   "execution_count": 17,
   "id": "minus-party",
   "metadata": {},
   "outputs": [
    {
     "data": {
      "text/plain": [
       "'もし午後４時に来たら、三時から幸せになり始めます。'"
      ]
     },
     "execution_count": 17,
     "metadata": {},
     "output_type": "execute_result"
    }
   ],
   "source": [
    "pg(\"もし午後4時にあなたが来るなら、私は3時から幸せになり始める。\")"
   ]
  },
  {
   "cell_type": "code",
   "execution_count": 18,
   "id": "temporal-clinton",
   "metadata": {},
   "outputs": [],
   "source": [
    "pg = Pororo(task=\"pg\", lang=\"zh\", model=\"transformer.large.multi.fast.mtpg\")"
   ]
  },
  {
   "cell_type": "code",
   "execution_count": 19,
   "id": "adverse-interface",
   "metadata": {},
   "outputs": [
    {
     "data": {
      "text/plain": [
       "'沙漠是美丽的,因为它藏在某个地方藏着泉水。'"
      ]
     },
     "execution_count": 19,
     "metadata": {},
     "output_type": "execute_result"
    }
   ],
   "source": [
    "pg(\"沙漠之所以美丽，是因为它在某个地方隐藏着泉气。\")"
   ]
  }
 ],
 "metadata": {
  "kernelspec": {
   "display_name": "Python 3",
   "language": "python",
   "name": "python3"
  },
  "language_info": {
   "codemirror_mode": {
    "name": "ipython",
    "version": 3
   },
   "file_extension": ".py",
   "mimetype": "text/x-python",
   "name": "python",
   "nbconvert_exporter": "python",
   "pygments_lexer": "ipython3",
   "version": "3.7.7"
  }
 },
 "nbformat": 4,
 "nbformat_minor": 5
}